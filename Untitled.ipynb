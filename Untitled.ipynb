{
 "cells": [
  {
   "cell_type": "code",
   "execution_count": 1,
   "metadata": {},
   "outputs": [],
   "source": [
    "import numpy as np\n",
    "import pandas as pd\n",
    "import matplotlib.pyplot as plt \n",
    "%matplotlib inline\n",
    "np.random.seed(42)\n",
    "# metrics\n",
    "from sklearn.metrics import balanced_accuracy_score\n",
    "from sklearn.metrics import confusion_matrix, plot_confusion_matrix\n",
    "from sklearn.metrics import accuracy_score, balanced_accuracy_score\n",
    "from sklearn.metrics import confusion_matrix\n",
    "from sklearn.metrics import precision_score, recall_score, f1_score\n",
    "from sklearn.metrics import classification_report\n",
    "\n",
    "# preprocessing\n",
    "from sklearn.pipeline import Pipeline\n",
    "from sklearn.preprocessing import StandardScaler\n",
    "from sklearn.preprocessing import MinMaxScaler\n",
    "\n",
    "# model selection\n",
    "from sklearn.model_selection import train_test_split\n",
    "from sklearn.model_selection import GridSearchCV\n",
    "from sklearn.model_selection import RandomizedSearchCV\n",
    "\n",
    "# models \n",
    "from sklearn.ensemble import RandomForestClassifier\n",
    "from sklearn.neighbors import KNeighborsClassifier\n",
    "from sklearn.linear_model import LogisticRegression, SGDClassifier\n",
    "from sklearn.svm import SVC\n",
    "\n",
    "from sklearn.ensemble import VotingClassifier\n",
    "from sklearn.ensemble import BaggingClassifier"
   ]
  },
  {
   "cell_type": "code",
   "execution_count": 2,
   "metadata": {},
   "outputs": [],
   "source": [
    "import warnings\n",
    "warnings.filterwarnings(\"ignore\", category=UserWarning)\n",
    "warnings.filterwarnings(\"ignore\", category=RuntimeWarning)"
   ]
  },
  {
   "cell_type": "code",
   "execution_count": 3,
   "metadata": {},
   "outputs": [
    {
     "data": {
      "text/html": [
       "<div>\n",
       "<style scoped>\n",
       "    .dataframe tbody tr th:only-of-type {\n",
       "        vertical-align: middle;\n",
       "    }\n",
       "\n",
       "    .dataframe tbody tr th {\n",
       "        vertical-align: top;\n",
       "    }\n",
       "\n",
       "    .dataframe thead th {\n",
       "        text-align: right;\n",
       "    }\n",
       "</style>\n",
       "<table border=\"1\" class=\"dataframe\">\n",
       "  <thead>\n",
       "    <tr style=\"text-align: right;\">\n",
       "      <th></th>\n",
       "      <th>att1</th>\n",
       "      <th>att2</th>\n",
       "      <th>att3</th>\n",
       "      <th>att4</th>\n",
       "      <th>att5</th>\n",
       "      <th>att6</th>\n",
       "      <th>class</th>\n",
       "    </tr>\n",
       "  </thead>\n",
       "  <tbody>\n",
       "    <tr>\n",
       "      <th>0</th>\n",
       "      <td>1.0</td>\n",
       "      <td>0.0</td>\n",
       "      <td>0.0</td>\n",
       "      <td>133.150861</td>\n",
       "      <td>1.311693</td>\n",
       "      <td>1620.221779</td>\n",
       "      <td>1</td>\n",
       "    </tr>\n",
       "    <tr>\n",
       "      <th>1</th>\n",
       "      <td>1.0</td>\n",
       "      <td>0.0</td>\n",
       "      <td>0.0</td>\n",
       "      <td>126.724861</td>\n",
       "      <td>1.302745</td>\n",
       "      <td>1609.334822</td>\n",
       "      <td>1</td>\n",
       "    </tr>\n",
       "    <tr>\n",
       "      <th>2</th>\n",
       "      <td>1.0</td>\n",
       "      <td>0.0</td>\n",
       "      <td>0.0</td>\n",
       "      <td>131.173861</td>\n",
       "      <td>1.319031</td>\n",
       "      <td>1568.978435</td>\n",
       "      <td>1</td>\n",
       "    </tr>\n",
       "    <tr>\n",
       "      <th>3</th>\n",
       "      <td>1.0</td>\n",
       "      <td>0.0</td>\n",
       "      <td>0.0</td>\n",
       "      <td>129.478861</td>\n",
       "      <td>1.270878</td>\n",
       "      <td>1695.055281</td>\n",
       "      <td>1</td>\n",
       "    </tr>\n",
       "    <tr>\n",
       "      <th>4</th>\n",
       "      <td>1.0</td>\n",
       "      <td>0.0</td>\n",
       "      <td>0.0</td>\n",
       "      <td>127.262861</td>\n",
       "      <td>1.329637</td>\n",
       "      <td>1647.720235</td>\n",
       "      <td>1</td>\n",
       "    </tr>\n",
       "  </tbody>\n",
       "</table>\n",
       "</div>"
      ],
      "text/plain": [
       "   att1  att2  att3        att4      att5         att6  class\n",
       "0   1.0   0.0   0.0  133.150861  1.311693  1620.221779      1\n",
       "1   1.0   0.0   0.0  126.724861  1.302745  1609.334822      1\n",
       "2   1.0   0.0   0.0  131.173861  1.319031  1568.978435      1\n",
       "3   1.0   0.0   0.0  129.478861  1.270878  1695.055281      1\n",
       "4   1.0   0.0   0.0  127.262861  1.329637  1647.720235      1"
      ]
     },
     "execution_count": 3,
     "metadata": {},
     "output_type": "execute_result"
    }
   ],
   "source": [
    "# getting the data\n",
    "df = pd.read_csv('data/mfeat-morphological_csv.csv')\n",
    "df.head()"
   ]
  },
  {
   "cell_type": "code",
   "execution_count": 4,
   "metadata": {
    "scrolled": true
   },
   "outputs": [
    {
     "name": "stdout",
     "output_type": "stream",
     "text": [
      "<class 'pandas.core.frame.DataFrame'>\n",
      "RangeIndex: 2000 entries, 0 to 1999\n",
      "Data columns (total 7 columns):\n",
      " #   Column  Non-Null Count  Dtype  \n",
      "---  ------  --------------  -----  \n",
      " 0   att1    2000 non-null   float64\n",
      " 1   att2    2000 non-null   float64\n",
      " 2   att3    2000 non-null   float64\n",
      " 3   att4    2000 non-null   float64\n",
      " 4   att5    2000 non-null   float64\n",
      " 5   att6    2000 non-null   float64\n",
      " 6   class   2000 non-null   int64  \n",
      "dtypes: float64(6), int64(1)\n",
      "memory usage: 109.5 KB\n"
     ]
    }
   ],
   "source": [
    "df.info()"
   ]
  },
  {
   "cell_type": "code",
   "execution_count": 5,
   "metadata": {},
   "outputs": [
    {
     "data": {
      "text/html": [
       "<div>\n",
       "<style scoped>\n",
       "    .dataframe tbody tr th:only-of-type {\n",
       "        vertical-align: middle;\n",
       "    }\n",
       "\n",
       "    .dataframe tbody tr th {\n",
       "        vertical-align: top;\n",
       "    }\n",
       "\n",
       "    .dataframe thead th {\n",
       "        text-align: right;\n",
       "    }\n",
       "</style>\n",
       "<table border=\"1\" class=\"dataframe\">\n",
       "  <thead>\n",
       "    <tr style=\"text-align: right;\">\n",
       "      <th></th>\n",
       "      <th>att1</th>\n",
       "      <th>att2</th>\n",
       "      <th>att3</th>\n",
       "      <th>att4</th>\n",
       "      <th>att5</th>\n",
       "      <th>att6</th>\n",
       "      <th>class</th>\n",
       "    </tr>\n",
       "  </thead>\n",
       "  <tbody>\n",
       "    <tr>\n",
       "      <th>count</th>\n",
       "      <td>2000.000000</td>\n",
       "      <td>2000.000000</td>\n",
       "      <td>2000.000000</td>\n",
       "      <td>2000.000000</td>\n",
       "      <td>2000.000000</td>\n",
       "      <td>2000.000000</td>\n",
       "      <td>2000.000</td>\n",
       "    </tr>\n",
       "    <tr>\n",
       "      <th>mean</th>\n",
       "      <td>0.492500</td>\n",
       "      <td>1.733500</td>\n",
       "      <td>0.713500</td>\n",
       "      <td>156.418886</td>\n",
       "      <td>1.639569</td>\n",
       "      <td>6155.200435</td>\n",
       "      <td>5.500</td>\n",
       "    </tr>\n",
       "    <tr>\n",
       "      <th>std</th>\n",
       "      <td>0.664955</td>\n",
       "      <td>1.141985</td>\n",
       "      <td>0.699759</td>\n",
       "      <td>25.010014</td>\n",
       "      <td>0.291316</td>\n",
       "      <td>3757.634467</td>\n",
       "      <td>2.873</td>\n",
       "    </tr>\n",
       "    <tr>\n",
       "      <th>min</th>\n",
       "      <td>0.000000</td>\n",
       "      <td>0.000000</td>\n",
       "      <td>0.000000</td>\n",
       "      <td>99.508861</td>\n",
       "      <td>1.143130</td>\n",
       "      <td>1439.534940</td>\n",
       "      <td>1.000</td>\n",
       "    </tr>\n",
       "    <tr>\n",
       "      <th>25%</th>\n",
       "      <td>0.000000</td>\n",
       "      <td>1.000000</td>\n",
       "      <td>0.000000</td>\n",
       "      <td>135.014361</td>\n",
       "      <td>1.363562</td>\n",
       "      <td>3099.331040</td>\n",
       "      <td>3.000</td>\n",
       "    </tr>\n",
       "    <tr>\n",
       "      <th>50%</th>\n",
       "      <td>0.000000</td>\n",
       "      <td>2.000000</td>\n",
       "      <td>1.000000</td>\n",
       "      <td>150.063861</td>\n",
       "      <td>1.625846</td>\n",
       "      <td>5255.432237</td>\n",
       "      <td>5.500</td>\n",
       "    </tr>\n",
       "    <tr>\n",
       "      <th>75%</th>\n",
       "      <td>1.000000</td>\n",
       "      <td>3.000000</td>\n",
       "      <td>1.000000</td>\n",
       "      <td>175.728861</td>\n",
       "      <td>1.881523</td>\n",
       "      <td>9093.955756</td>\n",
       "      <td>8.000</td>\n",
       "    </tr>\n",
       "    <tr>\n",
       "      <th>max</th>\n",
       "      <td>2.000000</td>\n",
       "      <td>6.000000</td>\n",
       "      <td>5.000000</td>\n",
       "      <td>231.276861</td>\n",
       "      <td>2.558830</td>\n",
       "      <td>17572.199943</td>\n",
       "      <td>10.000</td>\n",
       "    </tr>\n",
       "  </tbody>\n",
       "</table>\n",
       "</div>"
      ],
      "text/plain": [
       "              att1         att2         att3         att4         att5  \\\n",
       "count  2000.000000  2000.000000  2000.000000  2000.000000  2000.000000   \n",
       "mean      0.492500     1.733500     0.713500   156.418886     1.639569   \n",
       "std       0.664955     1.141985     0.699759    25.010014     0.291316   \n",
       "min       0.000000     0.000000     0.000000    99.508861     1.143130   \n",
       "25%       0.000000     1.000000     0.000000   135.014361     1.363562   \n",
       "50%       0.000000     2.000000     1.000000   150.063861     1.625846   \n",
       "75%       1.000000     3.000000     1.000000   175.728861     1.881523   \n",
       "max       2.000000     6.000000     5.000000   231.276861     2.558830   \n",
       "\n",
       "               att6     class  \n",
       "count   2000.000000  2000.000  \n",
       "mean    6155.200435     5.500  \n",
       "std     3757.634467     2.873  \n",
       "min     1439.534940     1.000  \n",
       "25%     3099.331040     3.000  \n",
       "50%     5255.432237     5.500  \n",
       "75%     9093.955756     8.000  \n",
       "max    17572.199943    10.000  "
      ]
     },
     "execution_count": 5,
     "metadata": {},
     "output_type": "execute_result"
    }
   ],
   "source": [
    "df.describe()"
   ]
  },
  {
   "cell_type": "markdown",
   "metadata": {},
   "source": [
    "**No missing values**"
   ]
  },
  {
   "cell_type": "code",
   "execution_count": 6,
   "metadata": {},
   "outputs": [
    {
     "data": {
      "text/plain": [
       "Index(['att1', 'att2', 'att3', 'att4', 'att5', 'att6'], dtype='object')"
      ]
     },
     "execution_count": 6,
     "metadata": {},
     "output_type": "execute_result"
    }
   ],
   "source": [
    "y = df['class']\n",
    "x = df.iloc[:, :-1]\n",
    "x.columns"
   ]
  },
  {
   "cell_type": "code",
   "execution_count": 7,
   "metadata": {},
   "outputs": [],
   "source": [
    "x_train, x_valid, y_train, y_valid = train_test_split(x, y, test_size=0.2)"
   ]
  },
  {
   "cell_type": "code",
   "execution_count": 8,
   "metadata": {},
   "outputs": [
    {
     "data": {
      "text/plain": [
       "0.708125"
      ]
     },
     "execution_count": 8,
     "metadata": {},
     "output_type": "execute_result"
    }
   ],
   "source": [
    "rf = RandomForestClassifier(oob_score=True, random_state=42)\n",
    "rf.fit(x_train, y_train)\n",
    "rf.oob_score_"
   ]
  },
  {
   "cell_type": "code",
   "execution_count": 9,
   "metadata": {},
   "outputs": [
    {
     "data": {
      "text/plain": [
       "0.7075"
      ]
     },
     "execution_count": 9,
     "metadata": {},
     "output_type": "execute_result"
    }
   ],
   "source": [
    "rf.score(x_valid, y_valid)"
   ]
  },
  {
   "cell_type": "code",
   "execution_count": 10,
   "metadata": {},
   "outputs": [
    {
     "data": {
      "text/plain": [
       "0.690625"
      ]
     },
     "execution_count": 10,
     "metadata": {},
     "output_type": "execute_result"
    }
   ],
   "source": [
    "rf = RandomForestClassifier(n_estimators=40, max_features=0.5, oob_score=True, n_jobs=-1, random_state=42)\n",
    "rf.fit(x_train, y_train)\n",
    "rf.oob_score_"
   ]
  },
  {
   "cell_type": "code",
   "execution_count": 11,
   "metadata": {},
   "outputs": [
    {
     "data": {
      "text/plain": [
       "0.715"
      ]
     },
     "execution_count": 11,
     "metadata": {},
     "output_type": "execute_result"
    }
   ],
   "source": [
    "rf.score(x_valid, y_valid)"
   ]
  },
  {
   "cell_type": "code",
   "execution_count": 12,
   "metadata": {},
   "outputs": [
    {
     "data": {
      "text/plain": [
       "0.6974362132232704"
      ]
     },
     "execution_count": 12,
     "metadata": {},
     "output_type": "execute_result"
    }
   ],
   "source": [
    "balanced_accuracy_score(y_valid, rf.predict(x_valid))"
   ]
  },
  {
   "cell_type": "code",
   "execution_count": 13,
   "metadata": {},
   "outputs": [
    {
     "data": {
      "image/png": "[encoded data removed]",
      "text/plain": [
       "<Figure size 432x288 with 2 Axes>"
      ]
     },
     "metadata": {
      "needs_background": "light"
     },
     "output_type": "display_data"
    }
   ],
   "source": [
    "plot_confusion_matrix(rf, x_valid, y_valid);"
   ]
  },
  {
   "cell_type": "code",
   "execution_count": 14,
   "metadata": {},
   "outputs": [
    {
     "data": {
      "image/png": "[encoded data removed]",
      "text/plain": [
       "<Figure size 1080x720 with 9 Axes>"
      ]
     },
     "metadata": {
      "needs_background": "light"
     },
     "output_type": "display_data"
    }
   ],
   "source": [
    "df.hist(figsize=(15, 10));"
   ]
  },
  {
   "cell_type": "code",
   "execution_count": 15,
   "metadata": {},
   "outputs": [
    {
     "data": {
      "text/plain": [
       "['att1', 'att2', 'att3', 'att4', 'att5', 'att6', 'class']"
      ]
     },
     "execution_count": 15,
     "metadata": {},
     "output_type": "execute_result"
    }
   ],
   "source": [
    "columns = df.columns.tolist();columns"
   ]
  },
  {
   "cell_type": "code",
   "execution_count": 16,
   "metadata": {},
   "outputs": [
    {
     "data": {
      "text/plain": [
       "['att1', 'att2', 'att3', 'att5']"
      ]
     },
     "execution_count": 16,
     "metadata": {},
     "output_type": "execute_result"
    }
   ],
   "source": [
    "np.r_[columns[:3], [columns[4]]].tolist()"
   ]
  },
  {
   "cell_type": "code",
   "execution_count": 17,
   "metadata": {},
   "outputs": [
    {
     "data": {
      "text/plain": [
       "<matplotlib.axes._subplots.AxesSubplot at 0x7fdda1765ed0>"
      ]
     },
     "execution_count": 17,
     "metadata": {},
     "output_type": "execute_result"
    },
    {
     "data": {
      "image/png": "[encoded data removed]",
      "text/plain": [
       "<Figure size 432x288 with 1 Axes>"
      ]
     },
     "metadata": {
      "needs_background": "light"
     },
     "output_type": "display_data"
    }
   ],
   "source": [
    "df.boxplot(np.r_[columns[:3], [columns[4]]].tolist())"
   ]
  },
  {
   "cell_type": "code",
   "execution_count": 18,
   "metadata": {},
   "outputs": [
    {
     "data": {
      "text/plain": [
       "<matplotlib.axes._subplots.AxesSubplot at 0x7fdda19099d0>"
      ]
     },
     "execution_count": 18,
     "metadata": {},
     "output_type": "execute_result"
    },
    {
     "data": {
      "image/png": "[encoded data removed]",
      "text/plain": [
       "<Figure size 432x288 with 1 Axes>"
      ]
     },
     "metadata": {
      "needs_background": "light"
     },
     "output_type": "display_data"
    }
   ],
   "source": [
    "df.boxplot('att3')"
   ]
  },
  {
   "cell_type": "code",
   "execution_count": 19,
   "metadata": {},
   "outputs": [
    {
     "data": {
      "text/plain": [
       "1.0    889\n",
       "0.0    846\n",
       "2.0    260\n",
       "3.0      3\n",
       "5.0      1\n",
       "4.0      1\n",
       "Name: att3, dtype: int64"
      ]
     },
     "execution_count": 19,
     "metadata": {},
     "output_type": "execute_result"
    }
   ],
   "source": [
    "df['att3'].value_counts()"
   ]
  },
  {
   "cell_type": "code",
   "execution_count": 20,
   "metadata": {},
   "outputs": [
    {
     "data": {
      "text/html": [
       "<div>\n",
       "<style scoped>\n",
       "    .dataframe tbody tr th:only-of-type {\n",
       "        vertical-align: middle;\n",
       "    }\n",
       "\n",
       "    .dataframe tbody tr th {\n",
       "        vertical-align: top;\n",
       "    }\n",
       "\n",
       "    .dataframe thead th {\n",
       "        text-align: right;\n",
       "    }\n",
       "</style>\n",
       "<table border=\"1\" class=\"dataframe\">\n",
       "  <thead>\n",
       "    <tr style=\"text-align: right;\">\n",
       "      <th></th>\n",
       "      <th>att1</th>\n",
       "      <th>att2</th>\n",
       "      <th>att3</th>\n",
       "      <th>att4</th>\n",
       "      <th>att5</th>\n",
       "      <th>att6</th>\n",
       "      <th>class</th>\n",
       "    </tr>\n",
       "  </thead>\n",
       "  <tbody>\n",
       "    <tr>\n",
       "      <th>235</th>\n",
       "      <td>0.0</td>\n",
       "      <td>4.0</td>\n",
       "      <td>4.0</td>\n",
       "      <td>155.074861</td>\n",
       "      <td>1.512981</td>\n",
       "      <td>4419.579881</td>\n",
       "      <td>2</td>\n",
       "    </tr>\n",
       "    <tr>\n",
       "      <th>327</th>\n",
       "      <td>0.0</td>\n",
       "      <td>3.0</td>\n",
       "      <td>5.0</td>\n",
       "      <td>150.543861</td>\n",
       "      <td>1.601697</td>\n",
       "      <td>4951.456401</td>\n",
       "      <td>2</td>\n",
       "    </tr>\n",
       "    <tr>\n",
       "      <th>819</th>\n",
       "      <td>1.0</td>\n",
       "      <td>3.0</td>\n",
       "      <td>3.0</td>\n",
       "      <td>146.863861</td>\n",
       "      <td>1.549377</td>\n",
       "      <td>4952.085367</td>\n",
       "      <td>5</td>\n",
       "    </tr>\n",
       "    <tr>\n",
       "      <th>1739</th>\n",
       "      <td>2.0</td>\n",
       "      <td>1.0</td>\n",
       "      <td>3.0</td>\n",
       "      <td>128.668861</td>\n",
       "      <td>1.269088</td>\n",
       "      <td>1728.209448</td>\n",
       "      <td>9</td>\n",
       "    </tr>\n",
       "    <tr>\n",
       "      <th>1783</th>\n",
       "      <td>2.0</td>\n",
       "      <td>1.0</td>\n",
       "      <td>3.0</td>\n",
       "      <td>141.726861</td>\n",
       "      <td>1.376182</td>\n",
       "      <td>2574.034752</td>\n",
       "      <td>9</td>\n",
       "    </tr>\n",
       "  </tbody>\n",
       "</table>\n",
       "</div>"
      ],
      "text/plain": [
       "      att1  att2  att3        att4      att5         att6  class\n",
       "235    0.0   4.0   4.0  155.074861  1.512981  4419.579881      2\n",
       "327    0.0   3.0   5.0  150.543861  1.601697  4951.456401      2\n",
       "819    1.0   3.0   3.0  146.863861  1.549377  4952.085367      5\n",
       "1739   2.0   1.0   3.0  128.668861  1.269088  1728.209448      9\n",
       "1783   2.0   1.0   3.0  141.726861  1.376182  2574.034752      9"
      ]
     },
     "execution_count": 20,
     "metadata": {},
     "output_type": "execute_result"
    }
   ],
   "source": [
    "df[ df['att3'] >= 3]"
   ]
  },
  {
   "cell_type": "code",
   "execution_count": 21,
   "metadata": {
    "scrolled": true
   },
   "outputs": [
    {
     "data": {
      "text/plain": [
       "<matplotlib.axes._subplots.AxesSubplot at 0x7fdda18cda10>"
      ]
     },
     "execution_count": 21,
     "metadata": {},
     "output_type": "execute_result"
    },
    {
     "data": {
      "image/png": "[encoded data removed]",
      "text/plain": [
       "<Figure size 432x288 with 1 Axes>"
      ]
     },
     "metadata": {
      "needs_background": "light"
     },
     "output_type": "display_data"
    }
   ],
   "source": [
    "df.boxplot('att4')"
   ]
  },
  {
   "cell_type": "code",
   "execution_count": 22,
   "metadata": {},
   "outputs": [
    {
     "data": {
      "text/plain": [
       "<matplotlib.axes._subplots.AxesSubplot at 0x7fdda1c0cd10>"
      ]
     },
     "execution_count": 22,
     "metadata": {},
     "output_type": "execute_result"
    },
    {
     "data": {
      "image/png": "[encoded data removed]",
      "text/plain": [
       "<Figure size 432x288 with 1 Axes>"
      ]
     },
     "metadata": {
      "needs_background": "light"
     },
     "output_type": "display_data"
    }
   ],
   "source": [
    "df.boxplot('att5')"
   ]
  },
  {
   "cell_type": "code",
   "execution_count": 23,
   "metadata": {},
   "outputs": [
    {
     "data": {
      "image/png": "[encoded data removed]",
      "text/plain": [
       "<Figure size 1080x576 with 1 Axes>"
      ]
     },
     "metadata": {
      "needs_background": "light"
     },
     "output_type": "display_data"
    }
   ],
   "source": [
    "# correlation \n",
    "corr = pd.DataFrame(df.corr()['class'].sort_values(ascending=False)[1:])\n",
    "\n",
    "labels = corr.index\n",
    "corr_values = corr['class'].tolist()\n",
    "\n",
    "plt.figure(figsize=(15, 8))\n",
    "plt.bar(labels, corr_values)\n",
    "plt.xlabel('Features')\n",
    "plt.ylabel('Correlation with class')\n",
    "plt.title('The Correlation between the Features and Target Column Class')\n",
    "plt.show()"
   ]
  },
  {
   "cell_type": "code",
   "execution_count": 24,
   "metadata": {},
   "outputs": [],
   "source": [
    "pip = Pipeline([\n",
    "    ('std_scaler', StandardScaler())\n",
    "])"
   ]
  },
  {
   "cell_type": "code",
   "execution_count": 25,
   "metadata": {},
   "outputs": [],
   "source": [
    "# scaling the features - for non-tree models\n",
    "x_train_std = pip.fit_transform(x_train)"
   ]
  },
  {
   "cell_type": "code",
   "execution_count": 26,
   "metadata": {},
   "outputs": [
    {
     "data": {
      "text/plain": [
       "0.708125"
      ]
     },
     "execution_count": 26,
     "metadata": {},
     "output_type": "execute_result"
    }
   ],
   "source": [
    "rf = RandomForestClassifier(oob_score=True, n_jobs=-1, random_state=42)\n",
    "rf.fit(x_train_std, y_train)\n",
    "rf.oob_score_"
   ]
  },
  {
   "cell_type": "code",
   "execution_count": 27,
   "metadata": {},
   "outputs": [
    {
     "data": {
      "text/plain": [
       "0.7075"
      ]
     },
     "execution_count": 27,
     "metadata": {},
     "output_type": "execute_result"
    }
   ],
   "source": [
    "rf.score(pip.transform(x_valid), y_valid)"
   ]
  },
  {
   "cell_type": "markdown",
   "metadata": {
    "heading_collapsed": true
   },
   "source": [
    "### Modeling"
   ]
  },
  {
   "cell_type": "code",
   "execution_count": 28,
   "metadata": {
    "hidden": true
   },
   "outputs": [],
   "source": [
    "# helper functions for RandomForests\n",
    "# puts the feature importance of RandomForest in a DataFrame\n",
    "def rf_feat_importance(m, df):\n",
    "    return pd.DataFrame({'cols':df.columns[:-1], 'imp':m.feature_importances_}\n",
    "                       ).sort_values('imp', ascending=False)\n",
    "\n",
    "# Plots the feature importance using the DataFrame\n",
    "def plot_fi(fi):\n",
    "    return fi.plot('cols', 'imp', 'barh', figsize=(12,7), legend=False)"
   ]
  },
  {
   "cell_type": "code",
   "execution_count": 29,
   "metadata": {
    "hidden": true
   },
   "outputs": [],
   "source": [
    "# fit_model\n",
    "# takes a model and datasets as input and outputs the scores\n",
    "def fit_model(model, x_train, y_train, x_valid, y_valid, return_scores=False):\n",
    "    # fitting the model\n",
    "    model.fit(x_train, y_train)\n",
    "    \n",
    "    # Scores\n",
    "    train_score = model.score(x_train, y_train)\n",
    "    y_pred = model.predict(x_valid)\n",
    "    valid_score = accuracy_score(y_pred, y_valid)\n",
    "    conf_mx = confusion_matrix(y_valid, y_pred)\n",
    "    precision = precision_score(y_valid, y_pred, average='weighted')\n",
    "    recall = recall_score(y_valid, y_pred, average='weighted')\n",
    "    f1 = f1_score(y_valid, y_pred, average='weighted')\n",
    "    balanced = balanced_accuracy_score(y_valid, y_pred)\n",
    "\n",
    "    if return_scores:\n",
    "        return train_score, valid_score, balanced, precision, recall, f1\n",
    "    \n",
    "    print('----- Model Scores -----')\n",
    "    print(f\"train score: {train_score:.4f} | valid score: {valid_score:.4f}\")\n",
    "    print(f\"precision  : {precision:.4f} | recall     : {recall:.4f}\")\n",
    "    print(f\"f1 score   : {f1:.4f} | balanced   : {balanced:.4f}\")\n",
    "    plot_confusion_matrix(model, x_valid, y_valid,\n",
    "                         values_format='')\n",
    "\n",
    "\n",
    "    return model"
   ]
  },
  {
   "cell_type": "markdown",
   "metadata": {
    "heading_collapsed": true
   },
   "source": [
    "### models "
   ]
  },
  {
   "cell_type": "code",
   "execution_count": 30,
   "metadata": {
    "hidden": true
   },
   "outputs": [],
   "source": [
    "# transform data\n",
    "x_train = pip.fit_transform(x_train)\n",
    "x_valid = pip.transform(x_valid)"
   ]
  },
  {
   "cell_type": "code",
   "execution_count": 31,
   "metadata": {
    "hidden": true
   },
   "outputs": [
    {
     "name": "stdout",
     "output_type": "stream",
     "text": [
      "----- Model Scores -----\n",
      "train score: 0.9569 | valid score: 0.7075\n",
      "precision  : 0.7117 | recall     : 0.7075\n",
      "f1 score   : 0.7076 | balanced   : 0.6906\n"
     ]
    },
    {
     "data": {
      "image/png": "[encoded data removed]",
      "text/plain": [
       "<Figure size 432x288 with 2 Axes>"
      ]
     },
     "metadata": {
      "needs_background": "light"
     },
     "output_type": "display_data"
    }
   ],
   "source": [
    "# rf\n",
    "rf = RandomForestClassifier(random_state=42)\n",
    "rf = fit_model(rf, x_train, y_train, x_valid, y_valid)"
   ]
  },
  {
   "cell_type": "code",
   "execution_count": 32,
   "metadata": {
    "hidden": true
   },
   "outputs": [
    {
     "data": {
      "text/html": [
       "<div>\n",
       "<style scoped>\n",
       "    .dataframe tbody tr th:only-of-type {\n",
       "        vertical-align: middle;\n",
       "    }\n",
       "\n",
       "    .dataframe tbody tr th {\n",
       "        vertical-align: top;\n",
       "    }\n",
       "\n",
       "    .dataframe thead th {\n",
       "        text-align: right;\n",
       "    }\n",
       "</style>\n",
       "<table border=\"1\" class=\"dataframe\">\n",
       "  <thead>\n",
       "    <tr style=\"text-align: right;\">\n",
       "      <th></th>\n",
       "      <th>cols</th>\n",
       "      <th>imp</th>\n",
       "    </tr>\n",
       "  </thead>\n",
       "  <tbody>\n",
       "    <tr>\n",
       "      <th>5</th>\n",
       "      <td>att6</td>\n",
       "      <td>0.272029</td>\n",
       "    </tr>\n",
       "    <tr>\n",
       "      <th>4</th>\n",
       "      <td>att5</td>\n",
       "      <td>0.199101</td>\n",
       "    </tr>\n",
       "    <tr>\n",
       "      <th>3</th>\n",
       "      <td>att4</td>\n",
       "      <td>0.189555</td>\n",
       "    </tr>\n",
       "    <tr>\n",
       "      <th>1</th>\n",
       "      <td>att2</td>\n",
       "      <td>0.121039</td>\n",
       "    </tr>\n",
       "    <tr>\n",
       "      <th>0</th>\n",
       "      <td>att1</td>\n",
       "      <td>0.121023</td>\n",
       "    </tr>\n",
       "    <tr>\n",
       "      <th>2</th>\n",
       "      <td>att3</td>\n",
       "      <td>0.097252</td>\n",
       "    </tr>\n",
       "  </tbody>\n",
       "</table>\n",
       "</div>"
      ],
      "text/plain": [
       "   cols       imp\n",
       "5  att6  0.272029\n",
       "4  att5  0.199101\n",
       "3  att4  0.189555\n",
       "1  att2  0.121039\n",
       "0  att1  0.121023\n",
       "2  att3  0.097252"
      ]
     },
     "execution_count": 32,
     "metadata": {},
     "output_type": "execute_result"
    }
   ],
   "source": [
    "fi = rf_feat_importance(rf, df)\n",
    "fi"
   ]
  },
  {
   "cell_type": "code",
   "execution_count": 33,
   "metadata": {
    "hidden": true
   },
   "outputs": [
    {
     "data": {
      "text/plain": [
       "<matplotlib.axes._subplots.AxesSubplot at 0x7fdda1ade610>"
      ]
     },
     "execution_count": 33,
     "metadata": {},
     "output_type": "execute_result"
    },
    {
     "data": {
      "image/png": "[encoded data removed]",
      "text/plain": [
       "<Figure size 864x504 with 1 Axes>"
      ]
     },
     "metadata": {
      "needs_background": "light"
     },
     "output_type": "display_data"
    }
   ],
   "source": [
    "plot_fi(fi)"
   ]
  },
  {
   "cell_type": "code",
   "execution_count": 34,
   "metadata": {
    "hidden": true
   },
   "outputs": [
    {
     "name": "stdout",
     "output_type": "stream",
     "text": [
      "----- Model Scores -----\n",
      "train score: 0.7312 | valid score: 0.7450\n",
      "precision  : 0.7045 | recall     : 0.7450\n",
      "f1 score   : 0.7128 | balanced   : 0.7418\n"
     ]
    },
    {
     "data": {
      "image/png": "[encoded data removed]",
      "text/plain": [
       "<Figure size 432x288 with 2 Axes>"
      ]
     },
     "metadata": {
      "needs_background": "light"
     },
     "output_type": "display_data"
    }
   ],
   "source": [
    "# SVM\n",
    "svc = SVC()\n",
    "svc = fit_model(svc, x_train, y_train, x_valid, y_valid)"
   ]
  },
  {
   "cell_type": "code",
   "execution_count": 35,
   "metadata": {
    "hidden": true
   },
   "outputs": [
    {
     "name": "stdout",
     "output_type": "stream",
     "text": [
      "----- Model Scores -----\n",
      "train score: 0.8063 | valid score: 0.7350\n",
      "precision  : 0.7420 | recall     : 0.7350\n",
      "f1 score   : 0.7356 | balanced   : 0.7201\n"
     ]
    },
    {
     "data": {
      "image/png": "[encoded data removed]",
      "text/plain": [
       "<Figure size 432x288 with 2 Axes>"
      ]
     },
     "metadata": {
      "needs_background": "light"
     },
     "output_type": "display_data"
    }
   ],
   "source": [
    "# KNN\n",
    "knn = KNeighborsClassifier()\n",
    "knn = fit_model(knn, x_train, y_train, x_valid, y_valid)"
   ]
  },
  {
   "cell_type": "code",
   "execution_count": 36,
   "metadata": {
    "hidden": true
   },
   "outputs": [
    {
     "name": "stdout",
     "output_type": "stream",
     "text": [
      "----- Model Scores -----\n",
      "train score: 0.7500 | valid score: 0.7500\n",
      "precision  : 0.8146 | recall     : 0.7500\n",
      "f1 score   : 0.7237 | balanced   : 0.7462\n"
     ]
    },
    {
     "data": {
      "image/png": "[encoded data removed]",
      "text/plain": [
       "<Figure size 432x288 with 2 Axes>"
      ]
     },
     "metadata": {
      "needs_background": "light"
     },
     "output_type": "display_data"
    }
   ],
   "source": [
    "# LR\n",
    "lr = LogisticRegression()\n",
    "lr = fit_model(lr, x_train, y_train, x_valid, y_valid)"
   ]
  },
  {
   "cell_type": "markdown",
   "metadata": {
    "hidden": true
   },
   "source": [
    "#### Removing some features "
   ]
  },
  {
   "cell_type": "code",
   "execution_count": 37,
   "metadata": {
    "hidden": true
   },
   "outputs": [],
   "source": [
    "# removing the feature with least importance based on Random Forest\n",
    "new_df = df.drop('att3', axis=1)\n",
    "x, y = new_df.iloc[:, :-1], new_df['class']\n",
    "x_train, x_valid, y_train, y_valid = train_test_split(x, y, test_size=0.2, random_state=42)\n",
    "x_train = pip.fit_transform(x_train)\n",
    "x_valid = pip.transform(x_valid)"
   ]
  },
  {
   "cell_type": "code",
   "execution_count": 38,
   "metadata": {
    "hidden": true
   },
   "outputs": [
    {
     "name": "stdout",
     "output_type": "stream",
     "text": [
      "----- Model Scores -----\n",
      "train score: 0.7362 | valid score: 0.7475\n",
      "precision  : 0.7059 | recall     : 0.7475\n",
      "f1 score   : 0.7149 | balanced   : 0.7439\n"
     ]
    },
    {
     "data": {
      "image/png": "[encoded data removed]",
      "text/plain": [
       "<Figure size 432x288 with 2 Axes>"
      ]
     },
     "metadata": {
      "needs_background": "light"
     },
     "output_type": "display_data"
    }
   ],
   "source": [
    "# SVM\n",
    "svc = SVC()\n",
    "svc = fit_model(svc, x_train, y_train, x_valid, y_valid)"
   ]
  },
  {
   "cell_type": "code",
   "execution_count": 39,
   "metadata": {
    "hidden": true
   },
   "outputs": [],
   "source": [
    "# removing the feature with least importance based on Random Forest\n",
    "new_df = df.drop('att5', axis=1)\n",
    "x, y = new_df.iloc[:, :-1], df['class']\n",
    "x_train, x_valid, y_train, y_valid = train_test_split(x, y, test_size=0.2, random_state=42)\n",
    "x_train = pip.fit_transform(x_train)\n",
    "x_valid = pip.transform(x_valid)"
   ]
  },
  {
   "cell_type": "code",
   "execution_count": 40,
   "metadata": {
    "hidden": true
   },
   "outputs": [
    {
     "name": "stdout",
     "output_type": "stream",
     "text": [
      "----- Model Scores -----\n",
      "train score: 0.7125 | valid score: 0.7375\n",
      "precision  : 0.6975 | recall     : 0.7375\n",
      "f1 score   : 0.7049 | balanced   : 0.7335\n"
     ]
    },
    {
     "data": {
      "image/png": "[encoded data removed]",
      "text/plain": [
       "<Figure size 432x288 with 2 Axes>"
      ]
     },
     "metadata": {
      "needs_background": "light"
     },
     "output_type": "display_data"
    }
   ],
   "source": [
    "# SVM\n",
    "svc = SVC()\n",
    "svc = fit_model(svc, x_train, y_train, x_valid, y_valid)"
   ]
  },
  {
   "cell_type": "code",
   "execution_count": 41,
   "metadata": {
    "hidden": true
   },
   "outputs": [],
   "source": [
    "# removing the feature with least importance based on Random Forest\n",
    "new_df = df.drop(['att5', 'att3'], axis=1)\n",
    "x, y = new_df.iloc[:, :-1], df['class']\n",
    "x_train, x_valid, y_train, y_valid = train_test_split(x, y, test_size=0.2, random_state=42)\n",
    "x_train = pip.fit_transform(x_train)\n",
    "x_valid = pip.transform(x_valid)"
   ]
  },
  {
   "cell_type": "code",
   "execution_count": 42,
   "metadata": {
    "hidden": true
   },
   "outputs": [
    {
     "name": "stdout",
     "output_type": "stream",
     "text": [
      "----- Model Scores -----\n",
      "train score: 0.7194 | valid score: 0.7350\n",
      "precision  : 0.6954 | recall     : 0.7350\n",
      "f1 score   : 0.7032 | balanced   : 0.7322\n"
     ]
    },
    {
     "data": {
      "image/png": "[encoded data removed]",
      "text/plain": [
       "<Figure size 432x288 with 2 Axes>"
      ]
     },
     "metadata": {
      "needs_background": "light"
     },
     "output_type": "display_data"
    }
   ],
   "source": [
    "# SVM\n",
    "svc = SVC()\n",
    "svc = fit_model(svc, x_train, y_train, x_valid, y_valid)"
   ]
  },
  {
   "cell_type": "code",
   "execution_count": 43,
   "metadata": {
    "hidden": true
   },
   "outputs": [],
   "source": [
    "# removing the feature with least importance based on Random Forest\n",
    "new_df = df.drop(['att6'], axis=1)\n",
    "x, y = new_df.iloc[:, :-1], df['class']\n",
    "x_train, x_valid, y_train, y_valid = train_test_split(x, y, test_size=0.2, random_state=42)\n",
    "x_train = pip.fit_transform(x_train)\n",
    "x_valid = pip.transform(x_valid)"
   ]
  },
  {
   "cell_type": "code",
   "execution_count": 44,
   "metadata": {
    "hidden": true
   },
   "outputs": [
    {
     "name": "stdout",
     "output_type": "stream",
     "text": [
      "----- Model Scores -----\n",
      "train score: 0.6987 | valid score: 0.7275\n",
      "precision  : 0.6867 | recall     : 0.7275\n",
      "f1 score   : 0.6945 | balanced   : 0.7229\n"
     ]
    },
    {
     "data": {
      "image/png": "[encoded data removed]",
      "text/plain": [
       "<Figure size 432x288 with 2 Axes>"
      ]
     },
     "metadata": {
      "needs_background": "light"
     },
     "output_type": "display_data"
    }
   ],
   "source": [
    "# SVM\n",
    "svc = SVC()\n",
    "svc = fit_model(svc, x_train, y_train, x_valid, y_valid)"
   ]
  },
  {
   "cell_type": "markdown",
   "metadata": {
    "heading_collapsed": true
   },
   "source": [
    "### PCA without `att3`"
   ]
  },
  {
   "cell_type": "code",
   "execution_count": 45,
   "metadata": {
    "hidden": true
   },
   "outputs": [
    {
     "data": {
      "text/plain": [
       "(2000, 3)"
      ]
     },
     "execution_count": 45,
     "metadata": {},
     "output_type": "execute_result"
    }
   ],
   "source": [
    "from sklearn.decomposition import PCA, KernelPCA\n",
    "new_df = df.drop('att3', axis=1)\n",
    "x,y = new_df.iloc[:, :-1], new_df['class']\n",
    "pca_data = KernelPCA(n_components=3, kernel='linear').fit_transform(x)\n",
    "pca_data.shape"
   ]
  },
  {
   "cell_type": "code",
   "execution_count": 46,
   "metadata": {
    "hidden": true
   },
   "outputs": [],
   "source": [
    "x_train, x_valid, y_train, y_valid = train_test_split(pca_data, y, test_size=0.2, random_state=42)\n",
    "x_train = pip.fit_transform(x_train)\n",
    "x_valid = pip.transform(x_valid)"
   ]
  },
  {
   "cell_type": "code",
   "execution_count": 47,
   "metadata": {
    "hidden": true
   },
   "outputs": [
    {
     "name": "stdout",
     "output_type": "stream",
     "text": [
      "----- Model Scores -----\n",
      "train score: 0.7406 | valid score: 0.7425\n",
      "precision  : 0.7028 | recall     : 0.7425\n",
      "f1 score   : 0.7102 | balanced   : 0.7408\n"
     ]
    },
    {
     "data": {
      "image/png": "[encoded data removed]",
      "text/plain": [
       "<Figure size 432x288 with 2 Axes>"
      ]
     },
     "metadata": {
      "needs_background": "light"
     },
     "output_type": "display_data"
    }
   ],
   "source": [
    "# SVM\n",
    "svc = SVC()\n",
    "svc = fit_model(svc, x_train, y_train, x_valid, y_valid)"
   ]
  },
  {
   "cell_type": "code",
   "execution_count": 48,
   "metadata": {
    "hidden": true
   },
   "outputs": [
    {
     "name": "stdout",
     "output_type": "stream",
     "text": [
      "----- Model Scores -----\n",
      "train score: 0.7300 | valid score: 0.7025\n",
      "precision  : 0.6580 | recall     : 0.7025\n",
      "f1 score   : 0.6678 | balanced   : 0.7029\n"
     ]
    },
    {
     "data": {
      "image/png": "[encoded data removed]",
      "text/plain": [
       "<Figure size 432x288 with 2 Axes>"
      ]
     },
     "metadata": {
      "needs_background": "light"
     },
     "output_type": "display_data"
    }
   ],
   "source": [
    "pca_data = KernelPCA(n_components=4, kernel='poly').fit_transform(x)\n",
    "x_train, x_valid, y_train, y_valid = train_test_split(pca_data, y, test_size=0.2, random_state=42)\n",
    "x_train = pip.fit_transform(x_train)\n",
    "x_valid = pip.transform(x_valid)\n",
    "\n",
    "# SVM\n",
    "svc = SVC()\n",
    "svc = fit_model(svc, x_train, y_train, x_valid, y_valid)"
   ]
  },
  {
   "cell_type": "markdown",
   "metadata": {
    "heading_collapsed": true
   },
   "source": [
    "### Best options"
   ]
  },
  {
   "cell_type": "code",
   "execution_count": 49,
   "metadata": {
    "hidden": true
   },
   "outputs": [
    {
     "name": "stdout",
     "output_type": "stream",
     "text": [
      "----- Model Scores -----\n",
      "train score: 0.7406 | valid score: 0.7425\n",
      "precision  : 0.7028 | recall     : 0.7425\n",
      "f1 score   : 0.7102 | balanced   : 0.7408\n"
     ]
    },
    {
     "data": {
      "image/png": "[encoded data removed]",
      "text/plain": [
       "<Figure size 432x288 with 2 Axes>"
      ]
     },
     "metadata": {
      "needs_background": "light"
     },
     "output_type": "display_data"
    }
   ],
   "source": [
    "new_df = df.drop('att3', axis=1)\n",
    "x,y = new_df.iloc[:, :-1], new_df['class']\n",
    "pca_data = KernelPCA(n_components=3, kernel='linear').fit_transform(x)\n",
    "x_train, x_valid, y_train, y_valid = train_test_split(pca_data, y, test_size=0.2, random_state=42)\n",
    "x_train = pip.fit_transform(x_train)\n",
    "x_valid = pip.transform(x_valid)\n",
    "\n",
    "# SVM\n",
    "svc = SVC()\n",
    "svc = fit_model(svc, x_train, y_train, x_valid, y_valid)"
   ]
  },
  {
   "cell_type": "markdown",
   "metadata": {
    "hidden": true
   },
   "source": [
    "**best valid score: without `att3` and no PCA** So I will continue without it as the data is not big anyway "
   ]
  },
  {
   "cell_type": "code",
   "execution_count": 50,
   "metadata": {
    "hidden": true
   },
   "outputs": [
    {
     "data": {
      "text/plain": [
       "(((1600, 5), (1600,)), ((400, 5), (400,)))"
      ]
     },
     "execution_count": 50,
     "metadata": {},
     "output_type": "execute_result"
    }
   ],
   "source": [
    "# new data without the att3\n",
    "new_df = df.drop('att3', axis=1)\n",
    "x, y = new_df.iloc[:, :-1], new_df['class']\n",
    "x_train, x_valid, y_train, y_valid = train_test_split(x, y, test_size=0.2, random_state=42)\n",
    "\n",
    "x_train = pip.fit_transform(x_train)\n",
    "x_valid = pip.transform(x_valid)\n",
    "\n",
    "(x_train.shape, y_train.shape), (x_valid.shape, y_valid.shape)"
   ]
  },
  {
   "cell_type": "markdown",
   "metadata": {
    "heading_collapsed": true
   },
   "source": [
    "# Fine tune models  "
   ]
  },
  {
   "cell_type": "code",
   "execution_count": 51,
   "metadata": {
    "hidden": true
   },
   "outputs": [],
   "source": [
    "# RF\n",
    "n_estimators = [int(x) for x in np.linspace(start=10, stop=100, num=10)]\n",
    "\n",
    "max_features = ['auto', 'sqrt']\n",
    "\n",
    "max_depth = [int(x) for x in np.linspace(1, 10, num = 10)]\n",
    "max_depth.append(None)\n",
    "\n",
    "min_samples_split = [2, 5, 10]\n",
    "\n",
    "min_samples_leaf = [1, 2, 4]\n",
    "\n",
    "bootstrap = [True, False]\n",
    "\n",
    "param_grid = {'n_estimators': n_estimators,\n",
    "               'max_features': max_features,\n",
    "               'max_depth': max_depth,\n",
    "               'min_samples_split': min_samples_split,\n",
    "               'min_samples_leaf': min_samples_leaf,\n",
    "               'bootstrap': bootstrap}"
   ]
  },
  {
   "cell_type": "code",
   "execution_count": 52,
   "metadata": {
    "hidden": true
   },
   "outputs": [],
   "source": [
    "rf_random = RandomizedSearchCV(estimator = rf, param_distributions = param_grid, \n",
    "                               n_iter = 100, cv = 3, verbose=2, random_state=42, n_jobs = -1)"
   ]
  },
  {
   "cell_type": "code",
   "execution_count": 53,
   "metadata": {
    "hidden": true
   },
   "outputs": [
    {
     "name": "stdout",
     "output_type": "stream",
     "text": [
      "Fitting 3 folds for each of 100 candidates, totalling 300 fits\n"
     ]
    },
    {
     "name": "stderr",
     "output_type": "stream",
     "text": [
      "[Parallel(n_jobs=-1)]: Using backend LokyBackend with 8 concurrent workers.\n",
      "[Parallel(n_jobs=-1)]: Done  25 tasks      | elapsed:    2.1s\n",
      "[Parallel(n_jobs=-1)]: Done 146 tasks      | elapsed:    5.0s\n",
      "[Parallel(n_jobs=-1)]: Done 300 out of 300 | elapsed:    9.4s finished\n"
     ]
    },
    {
     "data": {
      "text/plain": [
       "RandomizedSearchCV(cv=3, error_score=nan,\n",
       "                   estimator=RandomForestClassifier(bootstrap=True,\n",
       "                                                    ccp_alpha=0.0,\n",
       "                                                    class_weight=None,\n",
       "                                                    criterion='gini',\n",
       "                                                    max_depth=None,\n",
       "                                                    max_features='auto',\n",
       "                                                    max_leaf_nodes=None,\n",
       "                                                    max_samples=None,\n",
       "                                                    min_impurity_decrease=0.0,\n",
       "                                                    min_impurity_split=None,\n",
       "                                                    min_samples_leaf=1,\n",
       "                                                    min_samples_split=2,\n",
       "                                                    min_weight_fraction_leaf=0.0,\n",
       "                                                    n_estimators=100,\n",
       "                                                    n_jobs...\n",
       "                   iid='deprecated', n_iter=100, n_jobs=-1,\n",
       "                   param_distributions={'bootstrap': [True, False],\n",
       "                                        'max_depth': [1, 2, 3, 4, 5, 6, 7, 8, 9,\n",
       "                                                      10, None],\n",
       "                                        'max_features': ['auto', 'sqrt'],\n",
       "                                        'min_samples_leaf': [1, 2, 4],\n",
       "                                        'min_samples_split': [2, 5, 10],\n",
       "                                        'n_estimators': [10, 20, 30, 40, 50, 60,\n",
       "                                                         70, 80, 90, 100]},\n",
       "                   pre_dispatch='2*n_jobs', random_state=42, refit=True,\n",
       "                   return_train_score=False, scoring=None, verbose=2)"
      ]
     },
     "execution_count": 53,
     "metadata": {},
     "output_type": "execute_result"
    }
   ],
   "source": [
    "rf_random.fit(x_train, y_train)"
   ]
  },
  {
   "cell_type": "code",
   "execution_count": 54,
   "metadata": {
    "hidden": true
   },
   "outputs": [
    {
     "data": {
      "text/plain": [
       "{'n_estimators': 60,\n",
       " 'min_samples_split': 10,\n",
       " 'min_samples_leaf': 2,\n",
       " 'max_features': 'sqrt',\n",
       " 'max_depth': 10,\n",
       " 'bootstrap': True}"
      ]
     },
     "execution_count": 54,
     "metadata": {},
     "output_type": "execute_result"
    }
   ],
   "source": [
    "rf_random.best_params_"
   ]
  },
  {
   "cell_type": "code",
   "execution_count": 55,
   "metadata": {
    "hidden": true
   },
   "outputs": [
    {
     "data": {
      "text/plain": [
       "0.725"
      ]
     },
     "execution_count": 55,
     "metadata": {},
     "output_type": "execute_result"
    }
   ],
   "source": [
    "rf_random.score(x_valid, y_valid)"
   ]
  },
  {
   "cell_type": "code",
   "execution_count": 112,
   "metadata": {
    "hidden": true
   },
   "outputs": [],
   "source": [
    "svc = SVC()\n",
    "param_grid = {'C': np.arange(1, 11), 'gamma': [1,0.1,0.01,0.001],'kernel': ['poly', 'sigmoid', 'linear', 'sigmoid']}"
   ]
  },
  {
   "cell_type": "code",
   "execution_count": 113,
   "metadata": {
    "hidden": true
   },
   "outputs": [],
   "source": [
    "svc_random = RandomizedSearchCV(estimator = svc, param_distributions = param_grid, \n",
    "                               n_iter = 100, cv = 3, verbose=2, random_state=42, n_jobs = -1)"
   ]
  },
  {
   "cell_type": "code",
   "execution_count": 114,
   "metadata": {
    "hidden": true
   },
   "outputs": [
    {
     "name": "stdout",
     "output_type": "stream",
     "text": [
      "Fitting 3 folds for each of 100 candidates, totalling 300 fits\n"
     ]
    },
    {
     "name": "stderr",
     "output_type": "stream",
     "text": [
      "[Parallel(n_jobs=-1)]: Using backend LokyBackend with 8 concurrent workers.\n",
      "[Parallel(n_jobs=-1)]: Done  34 tasks      | elapsed:    0.4s\n",
      "[Parallel(n_jobs=-1)]: Done 300 out of 300 | elapsed:    3.2s finished\n"
     ]
    },
    {
     "data": {
      "text/plain": [
       "RandomizedSearchCV(cv=3, error_score=nan,\n",
       "                   estimator=SVC(C=1.0, break_ties=False, cache_size=200,\n",
       "                                 class_weight=None, coef0=0.0,\n",
       "                                 decision_function_shape='ovr', degree=3,\n",
       "                                 gamma='scale', kernel='rbf', max_iter=-1,\n",
       "                                 probability=False, random_state=None,\n",
       "                                 shrinking=True, tol=0.001, verbose=False),\n",
       "                   iid='deprecated', n_iter=100, n_jobs=-1,\n",
       "                   param_distributions={'C': array([ 1,  2,  3,  4,  5,  6,  7,  8,  9, 10]),\n",
       "                                        'gamma': [1, 0.1, 0.01, 0.001],\n",
       "                                        'kernel': ['poly', 'sigmoid', 'linear',\n",
       "                                                   'sigmoid']},\n",
       "                   pre_dispatch='2*n_jobs', random_state=42, refit=True,\n",
       "                   return_train_score=False, scoring=None, verbose=2)"
      ]
     },
     "execution_count": 114,
     "metadata": {},
     "output_type": "execute_result"
    }
   ],
   "source": [
    "svc_random.fit(x_train, y_train)"
   ]
  },
  {
   "cell_type": "code",
   "execution_count": 115,
   "metadata": {
    "hidden": true
   },
   "outputs": [
    {
     "data": {
      "text/plain": [
       "{'kernel': 'poly', 'gamma': 1, 'C': 5}"
      ]
     },
     "execution_count": 115,
     "metadata": {},
     "output_type": "execute_result"
    }
   ],
   "source": [
    "svc_random.best_params_"
   ]
  },
  {
   "cell_type": "code",
   "execution_count": 116,
   "metadata": {
    "hidden": true
   },
   "outputs": [
    {
     "data": {
      "text/plain": [
       "0.7675"
      ]
     },
     "execution_count": 116,
     "metadata": {},
     "output_type": "execute_result"
    }
   ],
   "source": [
    "svc_random.score(x_valid, y_valid)"
   ]
  },
  {
   "cell_type": "code",
   "execution_count": 117,
   "metadata": {
    "hidden": true
   },
   "outputs": [
    {
     "name": "stdout",
     "output_type": "stream",
     "text": [
      "Fitting 3 folds for each of 24 candidates, totalling 72 fits\n"
     ]
    },
    {
     "name": "stderr",
     "output_type": "stream",
     "text": [
      "[Parallel(n_jobs=-1)]: Using backend LokyBackend with 8 concurrent workers.\n",
      "[Parallel(n_jobs=-1)]: Done  34 tasks      | elapsed:    0.3s\n",
      "[Parallel(n_jobs=-1)]: Done  72 out of  72 | elapsed:    0.5s finished\n"
     ]
    },
    {
     "data": {
      "text/plain": [
       "{'n_neighbors': 4, 'leaf_size': 1, 'algorithm': 'auto'}"
      ]
     },
     "execution_count": 117,
     "metadata": {},
     "output_type": "execute_result"
    }
   ],
   "source": [
    "knn = KNeighborsClassifier()\n",
    "param_grid = {'n_neighbors':[4,5,6,7],\n",
    "              'leaf_size':[1,3,5],\n",
    "              'algorithm':['auto', 'kd_tree']}\n",
    "\n",
    "knn_rand = RandomizedSearchCV(estimator = knn, param_distributions = param_grid, \n",
    "                               n_iter = 100, cv = 3, verbose=2, random_state=42, n_jobs = -1)\n",
    "knn_rand.fit(x_train, y_train)\n",
    "knn_rand.best_params_"
   ]
  },
  {
   "cell_type": "code",
   "execution_count": 118,
   "metadata": {
    "hidden": true
   },
   "outputs": [
    {
     "data": {
      "text/plain": [
       "0.725"
      ]
     },
     "execution_count": 118,
     "metadata": {},
     "output_type": "execute_result"
    }
   ],
   "source": [
    "knn_rand.score(x_valid, y_valid)"
   ]
  },
  {
   "cell_type": "code",
   "execution_count": 119,
   "metadata": {
    "hidden": true
   },
   "outputs": [
    {
     "name": "stdout",
     "output_type": "stream",
     "text": [
      "Fitting 3 folds for each of 14 candidates, totalling 42 fits\n"
     ]
    },
    {
     "name": "stderr",
     "output_type": "stream",
     "text": [
      "[Parallel(n_jobs=-1)]: Using backend LokyBackend with 8 concurrent workers.\n",
      "[Parallel(n_jobs=-1)]: Done  27 out of  42 | elapsed:    0.2s remaining:    0.1s\n",
      "[Parallel(n_jobs=-1)]: Done  42 out of  42 | elapsed:    0.3s finished\n"
     ]
    },
    {
     "data": {
      "text/plain": [
       "{'penalty': 'l2', 'C': 1.0}"
      ]
     },
     "execution_count": 119,
     "metadata": {},
     "output_type": "execute_result"
    }
   ],
   "source": [
    "lr = LogisticRegression()\n",
    "param_grid = {\"C\":np.logspace(-3,3,7), \"penalty\":[\"l1\",\"l2\"]}\n",
    "\n",
    "lr_rand = RandomizedSearchCV(estimator = lr, param_distributions = param_grid, \n",
    "                               n_iter = 100, cv = 3, verbose=2, random_state=42, n_jobs = -1)\n",
    "\n",
    "lr_rand.fit(x_train, y_train)\n",
    "lr_rand.best_params_"
   ]
  },
  {
   "cell_type": "code",
   "execution_count": 120,
   "metadata": {
    "hidden": true
   },
   "outputs": [
    {
     "data": {
      "text/plain": [
       "0.75"
      ]
     },
     "execution_count": 120,
     "metadata": {},
     "output_type": "execute_result"
    }
   ],
   "source": [
    "lr_rand.score(x_valid, y_valid)"
   ]
  },
  {
   "cell_type": "markdown",
   "metadata": {
    "hidden": true
   },
   "source": [
    "- [ ] put a table of the results"
   ]
  },
  {
   "cell_type": "code",
   "execution_count": 121,
   "metadata": {
    "hidden": true
   },
   "outputs": [],
   "source": [
    "# retrain models with the best parameters\n",
    "rf = RandomForestClassifier(n_estimators=20, min_samples_split=2, min_samples_leaf=2, max_features='sqrt',\n",
    "                            max_depth=8, oob_score=True, random_state=42)\n",
    "rf.fit(x_train, y_train)\n",
    "\n",
    "knn = KNeighborsClassifier(**knn_rand.best_params_)\n",
    "knn.fit(x_train, y_train)\n",
    "\n",
    "svc = SVC(**svc_random.best_params_, probability=True)\n",
    "svc.fit(x_train, y_train)\n",
    "\n",
    "lr = LogisticRegression(**lr_rand.best_params_)\n",
    "lr.fit(x_train, y_train)\n",
    "\n",
    "models = [rf, knn, svc, lr]"
   ]
  },
  {
   "cell_type": "code",
   "execution_count": 122,
   "metadata": {
    "hidden": true
   },
   "outputs": [
    {
     "name": "stdout",
     "output_type": "stream",
     "text": [
      "RandomForestClassifier : 0.7375\n",
      "KNeighborsClassifier : 0.725\n",
      "SVC : 0.7675\n",
      "LogisticRegression : 0.75\n"
     ]
    }
   ],
   "source": [
    "for m in models:\n",
    "    print(type(m).__name__, ':', m.score(x_valid, y_valid))"
   ]
  },
  {
   "cell_type": "code",
   "execution_count": 123,
   "metadata": {
    "hidden": true
   },
   "outputs": [
    {
     "name": "stdout",
     "output_type": "stream",
     "text": [
      "----- Model Scores -----\n",
      "train score: 0.7819 | valid score: 0.7650\n",
      "precision  : 0.7910 | recall     : 0.7650\n",
      "f1 score   : 0.7432 | balanced   : 0.7610\n"
     ]
    },
    {
     "data": {
      "image/png": "[encoded data removed]",
      "text/plain": [
       "<Figure size 432x288 with 2 Axes>"
      ]
     },
     "metadata": {
      "needs_background": "light"
     },
     "output_type": "display_data"
    }
   ],
   "source": [
    "voting_clf = VotingClassifier(\n",
    "    estimators=[('RF', rf), ('KNN', knn), ('SVC', svc), ('LR', lr)],\n",
    "    voting='hard'\n",
    ")\n",
    "\n",
    "voting_clf = fit_model(voting_clf, x_train, y_train, x_valid, y_valid)"
   ]
  },
  {
   "cell_type": "code",
   "execution_count": 124,
   "metadata": {
    "hidden": true
   },
   "outputs": [
    {
     "name": "stdout",
     "output_type": "stream",
     "text": [
      "----- Model Scores -----\n",
      "train score: 0.8200 | valid score: 0.7400\n",
      "precision  : 0.7462 | recall     : 0.7400\n",
      "f1 score   : 0.7363 | balanced   : 0.7289\n"
     ]
    },
    {
     "data": {
      "image/png": "[encoded data removed]",
      "text/plain": [
       "<Figure size 432x288 with 2 Axes>"
      ]
     },
     "metadata": {
      "needs_background": "light"
     },
     "output_type": "display_data"
    }
   ],
   "source": [
    "voting_clf = VotingClassifier(\n",
    "    estimators=[('RF', rf), ('KNN', knn), ('SVC', svc), ('LR', lr)],\n",
    "    voting='soft'\n",
    ")\n",
    "\n",
    "voting_clf = fit_model(voting_clf, x_train, y_train, x_valid, y_valid)"
   ]
  },
  {
   "cell_type": "code",
   "execution_count": 125,
   "metadata": {
    "hidden": true
   },
   "outputs": [
    {
     "name": "stdout",
     "output_type": "stream",
     "text": [
      "----- Model Scores -----\n",
      "train score: 0.7969 | valid score: 0.7475\n",
      "precision  : 0.7520 | recall     : 0.7475\n",
      "f1 score   : 0.7364 | balanced   : 0.7390\n"
     ]
    },
    {
     "data": {
      "image/png": "[encoded data removed]",
      "text/plain": [
       "<Figure size 432x288 with 2 Axes>"
      ]
     },
     "metadata": {
      "needs_background": "light"
     },
     "output_type": "display_data"
    }
   ],
   "source": [
    "# drop the rf classifier\n",
    "voting_clf = VotingClassifier(\n",
    "    estimators=[('KNN', knn), ('SVC', svc), ('LR', lr)],\n",
    "    voting='soft'\n",
    ")\n",
    "\n",
    "voting_clf = fit_model(voting_clf, x_train, y_train, x_valid, y_valid)"
   ]
  },
  {
   "cell_type": "code",
   "execution_count": 126,
   "metadata": {
    "hidden": true
   },
   "outputs": [
    {
     "name": "stdout",
     "output_type": "stream",
     "text": [
      "----- Model Scores -----\n",
      "train score: 0.7769 | valid score: 0.7575\n",
      "precision  : 0.7844 | recall     : 0.7575\n",
      "f1 score   : 0.7361 | balanced   : 0.7521\n"
     ]
    },
    {
     "data": {
      "image/png": "[encoded data removed]",
      "text/plain": [
       "<Figure size 432x288 with 2 Axes>"
      ]
     },
     "metadata": {
      "needs_background": "light"
     },
     "output_type": "display_data"
    }
   ],
   "source": [
    "# drop the rf classifier\n",
    "voting_clf = VotingClassifier(\n",
    "    estimators=[('KNN', knn), ('SVC', svc), ('LR', lr)],\n",
    "    voting='hard'\n",
    ")\n",
    "\n",
    "voting_clf = fit_model(voting_clf, x_train, y_train, x_valid, y_valid)"
   ]
  },
  {
   "cell_type": "markdown",
   "metadata": {
    "hidden": true
   },
   "source": [
    "### Bagging and Pasting using the best model "
   ]
  },
  {
   "cell_type": "code",
   "execution_count": 127,
   "metadata": {
    "hidden": true
   },
   "outputs": [
    {
     "data": {
      "text/plain": [
       "0.7525"
      ]
     },
     "execution_count": 127,
     "metadata": {},
     "output_type": "execute_result"
    }
   ],
   "source": [
    "bag_clf = BaggingClassifier(SVC(**svc_random.best_params_, probability=True), n_estimators=150, \n",
    "                           max_samples=1000, bootstrap=True, n_jobs=-1, random_state=42, oob_score=True)\n",
    "bag_clf.fit(x_train, y_train)\n",
    "bag_clf.score(x_valid, y_valid)"
   ]
  },
  {
   "cell_type": "code",
   "execution_count": 128,
   "metadata": {
    "hidden": true
   },
   "outputs": [
    {
     "data": {
      "text/plain": [
       "0.7275"
      ]
     },
     "execution_count": 128,
     "metadata": {},
     "output_type": "execute_result"
    }
   ],
   "source": [
    "bag_clf = BaggingClassifier(SVC(**svc_random.best_params_, probability=True), n_estimators=150, \n",
    "                           max_samples=1000, max_features=3, bootstrap=True, n_jobs=-1, oob_score=True)\n",
    "bag_clf.fit(x_train, y_train)\n",
    "bag_clf.score(x_valid, y_valid)"
   ]
  },
  {
   "cell_type": "code",
   "execution_count": 129,
   "metadata": {
    "hidden": true
   },
   "outputs": [
    {
     "data": {
      "text/plain": [
       "0.77"
      ]
     },
     "execution_count": 129,
     "metadata": {},
     "output_type": "execute_result"
    }
   ],
   "source": [
    "bag_clf = BaggingClassifier(SVC(**svc_random.best_params_, probability=True), n_estimators=150, \n",
    "                           max_samples=1000, bootstrap=False, random_state=42, n_jobs=-1)\n",
    "bag_clf.fit(x_train, y_train)\n",
    "bag_clf.score(x_valid, y_valid)"
   ]
  },
  {
   "cell_type": "markdown",
   "metadata": {
    "hidden": true
   },
   "source": [
    "**best results**"
   ]
  },
  {
   "cell_type": "markdown",
   "metadata": {
    "hidden": true
   },
   "source": [
    "### bias & Variance"
   ]
  },
  {
   "cell_type": "code",
   "execution_count": 130,
   "metadata": {
    "hidden": true
   },
   "outputs": [
    {
     "data": {
      "text/plain": [
       "{'kernel': 'poly', 'gamma': 1, 'C': 5}"
      ]
     },
     "execution_count": 130,
     "metadata": {},
     "output_type": "execute_result"
    }
   ],
   "source": [
    "svc_random.best_params_"
   ]
  },
  {
   "cell_type": "code",
   "execution_count": 131,
   "metadata": {
    "hidden": true
   },
   "outputs": [
    {
     "name": "stdout",
     "output_type": "stream",
     "text": [
      "Fitting 3 folds for each of 4 candidates, totalling 12 fits\n"
     ]
    },
    {
     "name": "stderr",
     "output_type": "stream",
     "text": [
      "[Parallel(n_jobs=-1)]: Using backend LokyBackend with 8 concurrent workers.\n",
      "[Parallel(n_jobs=-1)]: Done   4 out of  12 | elapsed:    0.1s remaining:    0.2s\n",
      "[Parallel(n_jobs=-1)]: Done  12 out of  12 | elapsed:    0.2s finished\n"
     ]
    },
    {
     "data": {
      "text/plain": [
       "GridSearchCV(cv=3, error_score=nan,\n",
       "             estimator=SVC(C=5, break_ties=False, cache_size=200,\n",
       "                           class_weight=None, coef0=0.0,\n",
       "                           decision_function_shape='ovr', degree=3, gamma=1,\n",
       "                           kernel='rbf', max_iter=-1, probability=False,\n",
       "                           random_state=None, shrinking=True, tol=0.001,\n",
       "                           verbose=False),\n",
       "             iid='deprecated', n_jobs=-1,\n",
       "             param_grid={'kernel': ['sigmoid', 'poly', 'linear', 'rbf']},\n",
       "             pre_dispatch='2*n_jobs', refit=True, return_train_score=False,\n",
       "             scoring=None, verbose=2)"
      ]
     },
     "execution_count": 131,
     "metadata": {},
     "output_type": "execute_result"
    }
   ],
   "source": [
    "svc_grid = SVC(gamma=1, C=5)\n",
    "svc_param = {'kernel': ['sigmoid', 'poly', 'linear', 'rbf']}\n",
    "svc_grid = GridSearchCV(svc_grid, svc_param, n_jobs=-1, verbose=2, cv=3)\n",
    "svc_grid.fit(x_train, y_train)"
   ]
  },
  {
   "cell_type": "code",
   "execution_count": 132,
   "metadata": {
    "hidden": true
   },
   "outputs": [
    {
     "data": {
      "text/plain": [
       "{'kernel': 'poly'}"
      ]
     },
     "execution_count": 132,
     "metadata": {},
     "output_type": "execute_result"
    }
   ],
   "source": [
    "svc_grid.best_params_"
   ]
  },
  {
   "cell_type": "code",
   "execution_count": 133,
   "metadata": {
    "hidden": true
   },
   "outputs": [
    {
     "data": {
      "text/plain": [
       "0.7675"
      ]
     },
     "execution_count": 133,
     "metadata": {},
     "output_type": "execute_result"
    }
   ],
   "source": [
    "svc_grid.score(x_valid, y_valid)"
   ]
  },
  {
   "cell_type": "code",
   "execution_count": 134,
   "metadata": {
    "hidden": true,
    "scrolled": true
   },
   "outputs": [
    {
     "data": {
      "text/html": [
       "<div>\n",
       "<style scoped>\n",
       "    .dataframe tbody tr th:only-of-type {\n",
       "        vertical-align: middle;\n",
       "    }\n",
       "\n",
       "    .dataframe tbody tr th {\n",
       "        vertical-align: top;\n",
       "    }\n",
       "\n",
       "    .dataframe thead th {\n",
       "        text-align: right;\n",
       "    }\n",
       "</style>\n",
       "<table border=\"1\" class=\"dataframe\">\n",
       "  <thead>\n",
       "    <tr style=\"text-align: right;\">\n",
       "      <th></th>\n",
       "      <th>mean_fit_time</th>\n",
       "      <th>std_fit_time</th>\n",
       "      <th>mean_score_time</th>\n",
       "      <th>std_score_time</th>\n",
       "      <th>param_kernel</th>\n",
       "      <th>params</th>\n",
       "      <th>split0_test_score</th>\n",
       "      <th>split1_test_score</th>\n",
       "      <th>split2_test_score</th>\n",
       "      <th>mean_test_score</th>\n",
       "      <th>std_test_score</th>\n",
       "      <th>rank_test_score</th>\n",
       "    </tr>\n",
       "  </thead>\n",
       "  <tbody>\n",
       "    <tr>\n",
       "      <th>0</th>\n",
       "      <td>0.053142</td>\n",
       "      <td>0.003839</td>\n",
       "      <td>0.047817</td>\n",
       "      <td>0.002021</td>\n",
       "      <td>sigmoid</td>\n",
       "      <td>{'kernel': 'sigmoid'}</td>\n",
       "      <td>0.226592</td>\n",
       "      <td>0.288931</td>\n",
       "      <td>0.121951</td>\n",
       "      <td>0.212491</td>\n",
       "      <td>0.068894</td>\n",
       "      <td>4</td>\n",
       "    </tr>\n",
       "    <tr>\n",
       "      <th>1</th>\n",
       "      <td>0.147129</td>\n",
       "      <td>0.015150</td>\n",
       "      <td>0.007170</td>\n",
       "      <td>0.000886</td>\n",
       "      <td>poly</td>\n",
       "      <td>{'kernel': 'poly'}</td>\n",
       "      <td>0.749064</td>\n",
       "      <td>0.754221</td>\n",
       "      <td>0.759850</td>\n",
       "      <td>0.754378</td>\n",
       "      <td>0.004405</td>\n",
       "      <td>1</td>\n",
       "    </tr>\n",
       "    <tr>\n",
       "      <th>2</th>\n",
       "      <td>0.026018</td>\n",
       "      <td>0.009571</td>\n",
       "      <td>0.016564</td>\n",
       "      <td>0.012521</td>\n",
       "      <td>linear</td>\n",
       "      <td>{'kernel': 'linear'}</td>\n",
       "      <td>0.747191</td>\n",
       "      <td>0.746717</td>\n",
       "      <td>0.756098</td>\n",
       "      <td>0.750002</td>\n",
       "      <td>0.004315</td>\n",
       "      <td>2</td>\n",
       "    </tr>\n",
       "    <tr>\n",
       "      <th>3</th>\n",
       "      <td>0.032713</td>\n",
       "      <td>0.013679</td>\n",
       "      <td>0.010514</td>\n",
       "      <td>0.002022</td>\n",
       "      <td>rbf</td>\n",
       "      <td>{'kernel': 'rbf'}</td>\n",
       "      <td>0.741573</td>\n",
       "      <td>0.748593</td>\n",
       "      <td>0.746717</td>\n",
       "      <td>0.745628</td>\n",
       "      <td>0.002968</td>\n",
       "      <td>3</td>\n",
       "    </tr>\n",
       "  </tbody>\n",
       "</table>\n",
       "</div>"
      ],
      "text/plain": [
       "   mean_fit_time  std_fit_time  mean_score_time  std_score_time param_kernel  \\\n",
       "0       0.053142      0.003839         0.047817        0.002021      sigmoid   \n",
       "1       0.147129      0.015150         0.007170        0.000886         poly   \n",
       "2       0.026018      0.009571         0.016564        0.012521       linear   \n",
       "3       0.032713      0.013679         0.010514        0.002022          rbf   \n",
       "\n",
       "                  params  split0_test_score  split1_test_score  \\\n",
       "0  {'kernel': 'sigmoid'}           0.226592           0.288931   \n",
       "1     {'kernel': 'poly'}           0.749064           0.754221   \n",
       "2   {'kernel': 'linear'}           0.747191           0.746717   \n",
       "3      {'kernel': 'rbf'}           0.741573           0.748593   \n",
       "\n",
       "   split2_test_score  mean_test_score  std_test_score  rank_test_score  \n",
       "0           0.121951         0.212491        0.068894                4  \n",
       "1           0.759850         0.754378        0.004405                1  \n",
       "2           0.756098         0.750002        0.004315                2  \n",
       "3           0.746717         0.745628        0.002968                3  "
      ]
     },
     "execution_count": 134,
     "metadata": {},
     "output_type": "execute_result"
    }
   ],
   "source": [
    "svc_results = pd.DataFrame(svc_grid.cv_results_);\n",
    "svc_results"
   ]
  },
  {
   "cell_type": "code",
   "execution_count": 135,
   "metadata": {
    "hidden": true
   },
   "outputs": [
    {
     "data": {
      "image/png": "[encoded data removed]",
      "text/plain": [
       "<Figure size 432x288 with 1 Axes>"
      ]
     },
     "metadata": {
      "needs_background": "light"
     },
     "output_type": "display_data"
    },
    {
     "name": "stdout",
     "output_type": "stream",
     "text": [
      "Kernel sigmoid : 0.2124911871417763\n",
      "Kernel poly : 0.7543783216570281\n",
      "Kernel linear : 0.7500017567159251\n",
      "Kernel rbf : 0.7456275340627219\n"
     ]
    }
   ],
   "source": [
    "svc_results.plot(kind='bar', x='param_kernel', y='mean_test_score')\n",
    "plt.ylim(0.74, 0.76)\n",
    "plt.show()\n",
    "for i in range(4):\n",
    "    print(f\"Kernel {svc_results['param_kernel'][i]} : {svc_results['mean_test_score'][i]}\")"
   ]
  },
  {
   "cell_type": "markdown",
   "metadata": {
    "hidden": true
   },
   "source": [
    "The sigmoid kernel has a really high bias as it made wrong assumption about the data and it is really underfitting.\n",
    "\n",
    "For the rest of the kernels they are producing similar results"
   ]
  },
  {
   "cell_type": "code",
   "execution_count": 161,
   "metadata": {
    "hidden": true
   },
   "outputs": [
    {
     "name": "stdout",
     "output_type": "stream",
     "text": [
      "Fitting 3 folds for each of 34 candidates, totalling 102 fits\n"
     ]
    },
    {
     "name": "stderr",
     "output_type": "stream",
     "text": [
      "[Parallel(n_jobs=-1)]: Using backend LokyBackend with 8 concurrent workers.\n",
      "[Parallel(n_jobs=-1)]: Done  25 tasks      | elapsed:    2.0s\n",
      "[Parallel(n_jobs=-1)]: Done 102 out of 102 | elapsed:   10.4s finished\n"
     ]
    },
    {
     "data": {
      "text/plain": [
       "GridSearchCV(cv=3, error_score=nan,\n",
       "             estimator=SVC(C=10, break_ties=False, cache_size=200,\n",
       "                           class_weight=None, coef0=0.0,\n",
       "                           decision_function_shape='ovr', degree=3, gamma=1,\n",
       "                           kernel='poly', max_iter=-1, probability=False,\n",
       "                           random_state=None, shrinking=True, tol=0.001,\n",
       "                           verbose=False),\n",
       "             iid='deprecated', n_jobs=-1,\n",
       "             param_grid={'C': array([ 1,  2,  3,  4,  5,  6,  7,  8,  9, 10, 11, 12, 13, 14, 15, 16, 17,\n",
       "       18, 19, 20, 21, 22, 23, 24, 25, 26, 27, 28, 29, 30, 31, 32, 33, 34])},\n",
       "             pre_dispatch='2*n_jobs', refit=True, return_train_score=False,\n",
       "             scoring=None, verbose=2)"
      ]
     },
     "execution_count": 161,
     "metadata": {},
     "output_type": "execute_result"
    }
   ],
   "source": [
    "svc_grid = SVC(gamma=1, kernel='poly',C=10)\n",
    "svc_param = {'C': np.arange(1, 35)}\n",
    "svc_grid = GridSearchCV(svc_grid, svc_param, n_jobs=-1, verbose=2, cv=3)\n",
    "svc_grid.fit(x_train, y_train)"
   ]
  },
  {
   "cell_type": "code",
   "execution_count": 162,
   "metadata": {
    "hidden": true
   },
   "outputs": [
    {
     "data": {
      "text/plain": [
       "{'C': 5}"
      ]
     },
     "execution_count": 162,
     "metadata": {},
     "output_type": "execute_result"
    }
   ],
   "source": [
    "svc_grid.best_params_"
   ]
  },
  {
   "cell_type": "code",
   "execution_count": 163,
   "metadata": {
    "hidden": true
   },
   "outputs": [
    {
     "data": {
      "text/html": [
       "<div>\n",
       "<style scoped>\n",
       "    .dataframe tbody tr th:only-of-type {\n",
       "        vertical-align: middle;\n",
       "    }\n",
       "\n",
       "    .dataframe tbody tr th {\n",
       "        vertical-align: top;\n",
       "    }\n",
       "\n",
       "    .dataframe thead th {\n",
       "        text-align: right;\n",
       "    }\n",
       "</style>\n",
       "<table border=\"1\" class=\"dataframe\">\n",
       "  <thead>\n",
       "    <tr style=\"text-align: right;\">\n",
       "      <th></th>\n",
       "      <th>mean_fit_time</th>\n",
       "      <th>std_fit_time</th>\n",
       "      <th>mean_score_time</th>\n",
       "      <th>std_score_time</th>\n",
       "      <th>param_C</th>\n",
       "      <th>params</th>\n",
       "      <th>split0_test_score</th>\n",
       "      <th>split1_test_score</th>\n",
       "      <th>split2_test_score</th>\n",
       "      <th>mean_test_score</th>\n",
       "      <th>std_test_score</th>\n",
       "      <th>rank_test_score</th>\n",
       "    </tr>\n",
       "  </thead>\n",
       "  <tbody>\n",
       "    <tr>\n",
       "      <th>0</th>\n",
       "      <td>0.085385</td>\n",
       "      <td>0.013505</td>\n",
       "      <td>0.014345</td>\n",
       "      <td>0.002735</td>\n",
       "      <td>1</td>\n",
       "      <td>{'C': 1}</td>\n",
       "      <td>0.745318</td>\n",
       "      <td>0.746717</td>\n",
       "      <td>0.739212</td>\n",
       "      <td>0.743749</td>\n",
       "      <td>0.003259</td>\n",
       "      <td>15</td>\n",
       "    </tr>\n",
       "    <tr>\n",
       "      <th>1</th>\n",
       "      <td>0.097826</td>\n",
       "      <td>0.017552</td>\n",
       "      <td>0.009813</td>\n",
       "      <td>0.000667</td>\n",
       "      <td>2</td>\n",
       "      <td>{'C': 2}</td>\n",
       "      <td>0.749064</td>\n",
       "      <td>0.744841</td>\n",
       "      <td>0.754221</td>\n",
       "      <td>0.749375</td>\n",
       "      <td>0.003836</td>\n",
       "      <td>7</td>\n",
       "    </tr>\n",
       "    <tr>\n",
       "      <th>2</th>\n",
       "      <td>0.135754</td>\n",
       "      <td>0.027730</td>\n",
       "      <td>0.015159</td>\n",
       "      <td>0.004920</td>\n",
       "      <td>3</td>\n",
       "      <td>{'C': 3}</td>\n",
       "      <td>0.750936</td>\n",
       "      <td>0.750469</td>\n",
       "      <td>0.756098</td>\n",
       "      <td>0.752501</td>\n",
       "      <td>0.002550</td>\n",
       "      <td>3</td>\n",
       "    </tr>\n",
       "    <tr>\n",
       "      <th>3</th>\n",
       "      <td>0.266001</td>\n",
       "      <td>0.097769</td>\n",
       "      <td>0.020586</td>\n",
       "      <td>0.014362</td>\n",
       "      <td>4</td>\n",
       "      <td>{'C': 4}</td>\n",
       "      <td>0.750936</td>\n",
       "      <td>0.754221</td>\n",
       "      <td>0.756098</td>\n",
       "      <td>0.753752</td>\n",
       "      <td>0.002133</td>\n",
       "      <td>2</td>\n",
       "    </tr>\n",
       "    <tr>\n",
       "      <th>4</th>\n",
       "      <td>0.220349</td>\n",
       "      <td>0.083020</td>\n",
       "      <td>0.014135</td>\n",
       "      <td>0.005827</td>\n",
       "      <td>5</td>\n",
       "      <td>{'C': 5}</td>\n",
       "      <td>0.749064</td>\n",
       "      <td>0.754221</td>\n",
       "      <td>0.759850</td>\n",
       "      <td>0.754378</td>\n",
       "      <td>0.004405</td>\n",
       "      <td>1</td>\n",
       "    </tr>\n",
       "  </tbody>\n",
       "</table>\n",
       "</div>"
      ],
      "text/plain": [
       "   mean_fit_time  std_fit_time  mean_score_time  std_score_time param_C  \\\n",
       "0       0.085385      0.013505         0.014345        0.002735       1   \n",
       "1       0.097826      0.017552         0.009813        0.000667       2   \n",
       "2       0.135754      0.027730         0.015159        0.004920       3   \n",
       "3       0.266001      0.097769         0.020586        0.014362       4   \n",
       "4       0.220349      0.083020         0.014135        0.005827       5   \n",
       "\n",
       "     params  split0_test_score  split1_test_score  split2_test_score  \\\n",
       "0  {'C': 1}           0.745318           0.746717           0.739212   \n",
       "1  {'C': 2}           0.749064           0.744841           0.754221   \n",
       "2  {'C': 3}           0.750936           0.750469           0.756098   \n",
       "3  {'C': 4}           0.750936           0.754221           0.756098   \n",
       "4  {'C': 5}           0.749064           0.754221           0.759850   \n",
       "\n",
       "   mean_test_score  std_test_score  rank_test_score  \n",
       "0         0.743749        0.003259               15  \n",
       "1         0.749375        0.003836                7  \n",
       "2         0.752501        0.002550                3  \n",
       "3         0.753752        0.002133                2  \n",
       "4         0.754378        0.004405                1  "
      ]
     },
     "execution_count": 163,
     "metadata": {},
     "output_type": "execute_result"
    }
   ],
   "source": [
    "svc_results = pd.DataFrame(svc_grid.cv_results_); svc_results.head()"
   ]
  },
  {
   "cell_type": "code",
   "execution_count": 164,
   "metadata": {
    "hidden": true
   },
   "outputs": [
    {
     "data": {
      "text/plain": [
       "(0.73, 0.76)"
      ]
     },
     "execution_count": 164,
     "metadata": {},
     "output_type": "execute_result"
    },
    {
     "data": {
      "text/plain": [
       "<Figure size 720x1800 with 0 Axes>"
      ]
     },
     "metadata": {},
     "output_type": "display_data"
    },
    {
     "data": {
      "image/png": "[encoded data removed]",
      "text/plain": [
       "<Figure size 720x1080 with 1 Axes>"
      ]
     },
     "metadata": {
      "needs_background": "light"
     },
     "output_type": "display_data"
    }
   ],
   "source": [
    "plt.figure(figsize=(10, 25))\n",
    "svc_results.plot(kind='bar', x='param_C', y='mean_test_score', figsize=(10, 15))\n",
    "plt.ylim(0.73, 0.76)"
   ]
  },
  {
   "cell_type": "markdown",
   "metadata": {
    "hidden": true
   },
   "source": [
    "At small regularization C values the the variance of the model was high and it was sensitive to small variations in the data and this variance decreased as we increased the value of C until it reached a specific point at c=5 and where the bias started to increase as the model generalized and decrease the model complexity too much and ignored more points which made it have wrong assumptions about the data. "
   ]
  },
  {
   "cell_type": "markdown",
   "metadata": {
    "heading_collapsed": true,
    "hidden": true
   },
   "source": [
    "###  Pipelines"
   ]
  },
  {
   "cell_type": "code",
   "execution_count": 70,
   "metadata": {
    "hidden": true
   },
   "outputs": [],
   "source": [
    "from sklearn.cluster import KMeans"
   ]
  },
  {
   "cell_type": "code",
   "execution_count": 89,
   "metadata": {
    "hidden": true
   },
   "outputs": [
    {
     "data": {
      "text/plain": [
       "Index(['att1', 'att2', 'att3', 'att4', 'att5', 'att6', 'class'], dtype='object')"
      ]
     },
     "execution_count": 89,
     "metadata": {},
     "output_type": "execute_result"
    }
   ],
   "source": [
    "df.columns"
   ]
  },
  {
   "cell_type": "code",
   "execution_count": 68,
   "metadata": {
    "hidden": true
   },
   "outputs": [],
   "source": [
    "# new data without the att3\n",
    "new_df = df.drop('att3', axis=1)\n",
    "x, y = new_df.iloc[:, :-1], new_df['class']\n",
    "x_train, x_valid, y_train, y_valid = train_test_split(x, y, test_size=0.2, random_state=42)"
   ]
  },
  {
   "cell_type": "code",
   "execution_count": 74,
   "metadata": {
    "hidden": true
   },
   "outputs": [
    {
     "name": "stdout",
     "output_type": "stream",
     "text": [
      "----- Model Scores -----\n",
      "train score: 0.7006 | valid score: 0.7400\n",
      "precision  : 0.7533 | recall     : 0.7400\n",
      "f1 score   : 0.7217 | balanced   : 0.7341\n"
     ]
    },
    {
     "data": {
      "image/png": "[encoded data removed]",
      "text/plain": [
       "<Figure size 432x288 with 2 Axes>"
      ]
     },
     "metadata": {
      "needs_background": "light"
     },
     "output_type": "display_data"
    }
   ],
   "source": [
    "pipeline = Pipeline([\n",
    "    ('scaler', MinMaxScaler()),\n",
    "    ('kmeans', KMeans(n_clusters=5)),\n",
    "    ('svc', SVC(kernel='poly', gamma=1, C=10))\n",
    "])\n",
    "\n",
    "pipeline = fit_model(pipeline, x_train, y_train, x_valid, y_valid)"
   ]
  },
  {
   "cell_type": "code",
   "execution_count": 76,
   "metadata": {
    "hidden": true
   },
   "outputs": [
    {
     "name": "stdout",
     "output_type": "stream",
     "text": [
      "----- Model Scores -----\n",
      "train score: 0.7831 | valid score: 0.7650\n",
      "precision  : 0.7857 | recall     : 0.7650\n",
      "f1 score   : 0.7543 | balanced   : 0.7581\n"
     ]
    },
    {
     "data": {
      "image/png": "[encoded data removed]",
      "text/plain": [
       "<Figure size 432x288 with 2 Axes>"
      ]
     },
     "metadata": {
      "needs_background": "light"
     },
     "output_type": "display_data"
    }
   ],
   "source": [
    "pipeline = Pipeline([\n",
    "    ('scaler', StandardScaler()),\n",
    "    ('svc', SVC(**svc_random.best_params_))\n",
    "])\n",
    "\n",
    "pipeline = fit_model(pipeline, x_train, y_train, x_valid, y_valid)"
   ]
  },
  {
   "cell_type": "code",
   "execution_count": 75,
   "metadata": {
    "hidden": true
   },
   "outputs": [
    {
     "name": "stdout",
     "output_type": "stream",
     "text": [
      "----- Model Scores -----\n",
      "train score: 0.7831 | valid score: 0.7650\n",
      "precision  : 0.7857 | recall     : 0.7650\n",
      "f1 score   : 0.7543 | balanced   : 0.7581\n"
     ]
    },
    {
     "data": {
      "image/png": "[encoded data removed]",
      "text/plain": [
       "<Figure size 432x288 with 2 Axes>"
      ]
     },
     "metadata": {
      "needs_background": "light"
     },
     "output_type": "display_data"
    }
   ],
   "source": [
    "pipeline = Pipeline([\n",
    "    ('scaler', StandardScaler()),\n",
    "    ('svc', SVC(**svc_random.best_params_))\n",
    "])\n",
    "\n",
    "pipeline = fit_model(pipeline, x_train, y_train, x_valid, y_valid)"
   ]
  }
 ],
 "metadata": {
  "kernelspec": {
   "display_name": "Python 3",
   "language": "python",
   "name": "python3"
  },
  "language_info": {
   "codemirror_mode": {
    "name": "ipython",
    "version": 3
   },
   "file_extension": ".py",
   "mimetype": "text/x-python",
   "name": "python",
   "nbconvert_exporter": "python",
   "pygments_lexer": "ipython3",
   "version": "3.7.6"
  }
 },
 "nbformat": 4,
 "nbformat_minor": 4
}
