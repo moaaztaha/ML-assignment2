{
 "cells": [
  {
   "cell_type": "code",
   "execution_count": 85,
   "metadata": {
    "id": "c_hGrKUcCakL"
   },
   "outputs": [],
   "source": [
    "import numpy as np\n",
    "import pandas as pd\n",
    "import matplotlib.pyplot as plt \n",
    "%matplotlib inline\n",
    "np.random.seed(42)\n",
    "# metrics\n",
    "from sklearn.metrics import mean_squared_error\n",
    "from sklearn.metrics import r2_score\n",
    "\n",
    "# preprocessing\n",
    "from sklearn.pipeline import Pipeline\n",
    "from sklearn.preprocessing import StandardScaler\n",
    "from sklearn.preprocessing import MinMaxScaler\n",
    "\n",
    "from sklearn.decomposition import PCA\n",
    "\n",
    "# model selection\n",
    "from sklearn.model_selection import train_test_split\n",
    "from sklearn.model_selection import GridSearchCV\n",
    "from sklearn.model_selection import RandomizedSearchCV\n",
    "\n",
    "# models\n",
    "from sklearn.svm import SVR\n",
    "from sklearn.neighbors import KNeighborsRegressor\n",
    "\n",
    "# ensembles \n",
    "from sklearn.ensemble import RandomForestRegressor\n",
    "from sklearn.ensemble import IsolationForest\n",
    "from sklearn.ensemble import VotingRegressor\n",
    "from sklearn.ensemble import BaggingRegressor"
   ]
  },
  {
   "cell_type": "markdown",
   "metadata": {
    "id": "jBCD2t9eFOkT"
   },
   "source": [
    "### Data Exploration"
   ]
  },
  {
   "cell_type": "code",
   "execution_count": 2,
   "metadata": {
    "id": "xrSqbHoCCakN"
   },
   "outputs": [
    {
     "data": {
      "text/html": [
       "<div>\n",
       "<style scoped>\n",
       "    .dataframe tbody tr th:only-of-type {\n",
       "        vertical-align: middle;\n",
       "    }\n",
       "\n",
       "    .dataframe tbody tr th {\n",
       "        vertical-align: top;\n",
       "    }\n",
       "\n",
       "    .dataframe thead th {\n",
       "        text-align: right;\n",
       "    }\n",
       "</style>\n",
       "<table border=\"1\" class=\"dataframe\">\n",
       "  <thead>\n",
       "    <tr style=\"text-align: right;\">\n",
       "      <th></th>\n",
       "      <th>id</th>\n",
       "      <th>type</th>\n",
       "      <th>name</th>\n",
       "      <th>longname</th>\n",
       "      <th>parent</th>\n",
       "      <th>component</th>\n",
       "      <th>path</th>\n",
       "      <th>line</th>\n",
       "      <th>column</th>\n",
       "      <th>endline</th>\n",
       "      <th>...</th>\n",
       "      <th>tnlm</th>\n",
       "      <th>tnlpa</th>\n",
       "      <th>tnlpm</th>\n",
       "      <th>tnls</th>\n",
       "      <th>tnm</th>\n",
       "      <th>tnos</th>\n",
       "      <th>tnpa</th>\n",
       "      <th>tnpm</th>\n",
       "      <th>tns</th>\n",
       "      <th>bug</th>\n",
       "    </tr>\n",
       "  </thead>\n",
       "  <tbody>\n",
       "    <tr>\n",
       "      <th>0</th>\n",
       "      <td>L70222</td>\n",
       "      <td>Class</td>\n",
       "      <td>BindingKey</td>\n",
       "      <td>org.eclipse.jdt.core.BindingKey</td>\n",
       "      <td>L92879</td>\n",
       "      <td>L103</td>\n",
       "      <td>org.eclipse.jdt.core/model/org/eclipse/jdt/cor...</td>\n",
       "      <td>25</td>\n",
       "      <td>1</td>\n",
       "      <td>267</td>\n",
       "      <td>...</td>\n",
       "      <td>13</td>\n",
       "      <td>0</td>\n",
       "      <td>13</td>\n",
       "      <td>0</td>\n",
       "      <td>13</td>\n",
       "      <td>49</td>\n",
       "      <td>0</td>\n",
       "      <td>13</td>\n",
       "      <td>0</td>\n",
       "      <td>0</td>\n",
       "    </tr>\n",
       "    <tr>\n",
       "      <th>1</th>\n",
       "      <td>L57358</td>\n",
       "      <td>Class</td>\n",
       "      <td>BufferChangedEvent</td>\n",
       "      <td>org.eclipse.jdt.core.BufferChangedEvent</td>\n",
       "      <td>L92879</td>\n",
       "      <td>L103</td>\n",
       "      <td>org.eclipse.jdt.core/model/org/eclipse/jdt/cor...</td>\n",
       "      <td>47</td>\n",
       "      <td>1</td>\n",
       "      <td>117</td>\n",
       "      <td>...</td>\n",
       "      <td>5</td>\n",
       "      <td>0</td>\n",
       "      <td>5</td>\n",
       "      <td>0</td>\n",
       "      <td>5</td>\n",
       "      <td>8</td>\n",
       "      <td>0</td>\n",
       "      <td>5</td>\n",
       "      <td>0</td>\n",
       "      <td>0</td>\n",
       "    </tr>\n",
       "    <tr>\n",
       "      <th>2</th>\n",
       "      <td>L117505</td>\n",
       "      <td>Class</td>\n",
       "      <td>CheckDebugAttributes</td>\n",
       "      <td>org.eclipse.jdt.core.CheckDebugAttributes</td>\n",
       "      <td>L92879</td>\n",
       "      <td>L103</td>\n",
       "      <td>org.eclipse.jdt.core/antadapter/org/eclipse/jd...</td>\n",
       "      <td>40</td>\n",
       "      <td>1</td>\n",
       "      <td>98</td>\n",
       "      <td>...</td>\n",
       "      <td>4</td>\n",
       "      <td>0</td>\n",
       "      <td>3</td>\n",
       "      <td>2</td>\n",
       "      <td>4</td>\n",
       "      <td>33</td>\n",
       "      <td>0</td>\n",
       "      <td>3</td>\n",
       "      <td>2</td>\n",
       "      <td>0</td>\n",
       "    </tr>\n",
       "    <tr>\n",
       "      <th>3</th>\n",
       "      <td>L66611</td>\n",
       "      <td>Class</td>\n",
       "      <td>ClasspathContainerInitializer</td>\n",
       "      <td>org.eclipse.jdt.core.ClasspathContainerInitial...</td>\n",
       "      <td>L92879</td>\n",
       "      <td>L103</td>\n",
       "      <td>org.eclipse.jdt.core/model/org/eclipse/jdt/cor...</td>\n",
       "      <td>44</td>\n",
       "      <td>1</td>\n",
       "      <td>366</td>\n",
       "      <td>...</td>\n",
       "      <td>15</td>\n",
       "      <td>2</td>\n",
       "      <td>15</td>\n",
       "      <td>0</td>\n",
       "      <td>15</td>\n",
       "      <td>21</td>\n",
       "      <td>5</td>\n",
       "      <td>15</td>\n",
       "      <td>0</td>\n",
       "      <td>0</td>\n",
       "    </tr>\n",
       "    <tr>\n",
       "      <th>4</th>\n",
       "      <td>L130930</td>\n",
       "      <td>Class</td>\n",
       "      <td>ClasspathVariableInitializer</td>\n",
       "      <td>org.eclipse.jdt.core.ClasspathVariableInitializer</td>\n",
       "      <td>L92879</td>\n",
       "      <td>L103</td>\n",
       "      <td>org.eclipse.jdt.core/model/org/eclipse/jdt/cor...</td>\n",
       "      <td>26</td>\n",
       "      <td>1</td>\n",
       "      <td>52</td>\n",
       "      <td>...</td>\n",
       "      <td>2</td>\n",
       "      <td>0</td>\n",
       "      <td>2</td>\n",
       "      <td>0</td>\n",
       "      <td>2</td>\n",
       "      <td>0</td>\n",
       "      <td>0</td>\n",
       "      <td>2</td>\n",
       "      <td>0</td>\n",
       "      <td>0</td>\n",
       "    </tr>\n",
       "  </tbody>\n",
       "</table>\n",
       "<p>5 rows × 72 columns</p>\n",
       "</div>"
      ],
      "text/plain": [
       "        id   type                           name  \\\n",
       "0   L70222  Class                     BindingKey   \n",
       "1   L57358  Class             BufferChangedEvent   \n",
       "2  L117505  Class           CheckDebugAttributes   \n",
       "3   L66611  Class  ClasspathContainerInitializer   \n",
       "4  L130930  Class   ClasspathVariableInitializer   \n",
       "\n",
       "                                            longname  parent component  \\\n",
       "0                    org.eclipse.jdt.core.BindingKey  L92879      L103   \n",
       "1            org.eclipse.jdt.core.BufferChangedEvent  L92879      L103   \n",
       "2          org.eclipse.jdt.core.CheckDebugAttributes  L92879      L103   \n",
       "3  org.eclipse.jdt.core.ClasspathContainerInitial...  L92879      L103   \n",
       "4  org.eclipse.jdt.core.ClasspathVariableInitializer  L92879      L103   \n",
       "\n",
       "                                                path  line  column  endline  \\\n",
       "0  org.eclipse.jdt.core/model/org/eclipse/jdt/cor...    25       1      267   \n",
       "1  org.eclipse.jdt.core/model/org/eclipse/jdt/cor...    47       1      117   \n",
       "2  org.eclipse.jdt.core/antadapter/org/eclipse/jd...    40       1       98   \n",
       "3  org.eclipse.jdt.core/model/org/eclipse/jdt/cor...    44       1      366   \n",
       "4  org.eclipse.jdt.core/model/org/eclipse/jdt/cor...    26       1       52   \n",
       "\n",
       "   ...  tnlm  tnlpa  tnlpm  tnls  tnm  tnos  tnpa  tnpm  tns  bug  \n",
       "0  ...    13      0     13     0   13    49     0    13    0    0  \n",
       "1  ...     5      0      5     0    5     8     0     5    0    0  \n",
       "2  ...     4      0      3     2    4    33     0     3    2    0  \n",
       "3  ...    15      2     15     0   15    21     5    15    0    0  \n",
       "4  ...     2      0      2     0    2     0     0     2    0    0  \n",
       "\n",
       "[5 rows x 72 columns]"
      ]
     },
     "execution_count": 2,
     "metadata": {},
     "output_type": "execute_result"
    }
   ],
   "source": [
    "# getting the data\n",
    "df = pd.read_csv('data/Unified-class.csv');\n",
    "df.columns = [x.lower() for x in df.columns] # lowercase the columns\n",
    "df.head()"
   ]
  },
  {
   "cell_type": "code",
   "execution_count": 3,
   "metadata": {
    "id": "be-m4sBxEhJU"
   },
   "outputs": [
    {
     "name": "stdout",
     "output_type": "stream",
     "text": [
      "<class 'pandas.core.frame.DataFrame'>\n",
      "RangeIndex: 47618 entries, 0 to 47617\n",
      "Data columns (total 72 columns):\n",
      " #   Column     Non-Null Count  Dtype  \n",
      "---  ------     --------------  -----  \n",
      " 0   id         47618 non-null  object \n",
      " 1   type       47618 non-null  object \n",
      " 2   name       47618 non-null  object \n",
      " 3   longname   47618 non-null  object \n",
      " 4   parent     47618 non-null  object \n",
      " 5   component  47618 non-null  object \n",
      " 6   path       47618 non-null  object \n",
      " 7   line       47618 non-null  int64  \n",
      " 8   column     47618 non-null  int64  \n",
      " 9   endline    47618 non-null  int64  \n",
      " 10  endcolumn  47618 non-null  int64  \n",
      " 11  cc         47618 non-null  float64\n",
      " 12  ccl        47618 non-null  int64  \n",
      " 13  cco        47618 non-null  int64  \n",
      " 14  ci         47618 non-null  int64  \n",
      " 15  clc        47618 non-null  float64\n",
      " 16  cllc       47618 non-null  float64\n",
      " 17  ldc        47618 non-null  int64  \n",
      " 18  lldc       47618 non-null  int64  \n",
      " 19  lcom5      47618 non-null  int64  \n",
      " 20  nl         47618 non-null  int64  \n",
      " 21  nle        47618 non-null  int64  \n",
      " 22  wmc        47618 non-null  int64  \n",
      " 23  cbo        47618 non-null  int64  \n",
      " 24  cboi       47618 non-null  int64  \n",
      " 25  nii        47618 non-null  int64  \n",
      " 26  noi        47618 non-null  int64  \n",
      " 27  rfc        47618 non-null  int64  \n",
      " 28  ad         47618 non-null  float64\n",
      " 29  cd         47618 non-null  float64\n",
      " 30  cloc       47618 non-null  int64  \n",
      " 31  dloc       47618 non-null  int64  \n",
      " 32  pda        47618 non-null  int64  \n",
      " 33  pua        47618 non-null  int64  \n",
      " 34  tcd        47618 non-null  float64\n",
      " 35  tcloc      47618 non-null  int64  \n",
      " 36  dit        47618 non-null  int64  \n",
      " 37  noa        47618 non-null  int64  \n",
      " 38  noc        47618 non-null  int64  \n",
      " 39  nod        47618 non-null  int64  \n",
      " 40  nop        47618 non-null  int64  \n",
      " 41  lloc       47618 non-null  int64  \n",
      " 42  loc        47618 non-null  int64  \n",
      " 43  na         47618 non-null  int64  \n",
      " 44  ng         47618 non-null  int64  \n",
      " 45  nla        47618 non-null  int64  \n",
      " 46  nlg        47618 non-null  int64  \n",
      " 47  nlm        47618 non-null  int64  \n",
      " 48  nlpa       47618 non-null  int64  \n",
      " 49  nlpm       47618 non-null  int64  \n",
      " 50  nls        47618 non-null  int64  \n",
      " 51  nm         47618 non-null  int64  \n",
      " 52  nos        47618 non-null  int64  \n",
      " 53  npa        47618 non-null  int64  \n",
      " 54  npm        47618 non-null  int64  \n",
      " 55  ns         47618 non-null  int64  \n",
      " 56  tlloc      47618 non-null  int64  \n",
      " 57  tloc       47618 non-null  int64  \n",
      " 58  tna        47618 non-null  int64  \n",
      " 59  tng        47618 non-null  int64  \n",
      " 60  tnla       47618 non-null  int64  \n",
      " 61  tnlg       47618 non-null  int64  \n",
      " 62  tnlm       47618 non-null  int64  \n",
      " 63  tnlpa      47618 non-null  int64  \n",
      " 64  tnlpm      47618 non-null  int64  \n",
      " 65  tnls       47618 non-null  int64  \n",
      " 66  tnm        47618 non-null  int64  \n",
      " 67  tnos       47618 non-null  int64  \n",
      " 68  tnpa       47618 non-null  int64  \n",
      " 69  tnpm       47618 non-null  int64  \n",
      " 70  tns        47618 non-null  int64  \n",
      " 71  bug        47618 non-null  int64  \n",
      "dtypes: float64(6), int64(59), object(7)\n",
      "memory usage: 26.2+ MB\n"
     ]
    }
   ],
   "source": [
    "df.info()"
   ]
  },
  {
   "cell_type": "markdown",
   "metadata": {
    "id": "FUUUqAiOYJhp"
   },
   "source": [
    "**The features has no missing values**"
   ]
  },
  {
   "cell_type": "code",
   "execution_count": 4,
   "metadata": {
    "id": "6zVaJNWxFfr9"
   },
   "outputs": [
    {
     "name": "stdout",
     "output_type": "stream",
     "text": [
      "id :  35887\n",
      "type :  4\n",
      "name :  36474\n",
      "longname :  38151\n",
      "parent :  10609\n",
      "component :  1\n",
      "path :  26057\n"
     ]
    }
   ],
   "source": [
    "# getting the number of unique values per 'object' features\n",
    "for col in df.columns:\n",
    "  if df[col].dtype == 'O':\n",
    "    print(col, \": \", df[col].nunique())"
   ]
  },
  {
   "cell_type": "markdown",
   "metadata": {
    "id": "6R4hmpSwYboT"
   },
   "source": [
    "**We will drop all the 'object' features except the `type` feature as they have a huge number of unique values**"
   ]
  },
  {
   "cell_type": "code",
   "execution_count": 5,
   "metadata": {
    "id": "vMJtTFHXHPgW"
   },
   "outputs": [],
   "source": [
    "# drop object features except type \n",
    "df.drop(np.r_[['id'], df.columns[2:7]], axis=1, inplace=True)"
   ]
  },
  {
   "cell_type": "code",
   "execution_count": 6,
   "metadata": {
    "id": "qodSwCk5CakQ"
   },
   "outputs": [
    {
     "data": {
      "text/plain": [
       "(62, 0)"
      ]
     },
     "execution_count": 6,
     "metadata": {},
     "output_type": "execute_result"
    }
   ],
   "source": [
    "# max and min values in the target class\n",
    "df['bug'].unique().max(), df['bug'].unique().min()"
   ]
  },
  {
   "cell_type": "markdown",
   "metadata": {
    "id": "_jbZtqGAY29V"
   },
   "source": [
    "**The max target value is 62 and the min target value is 0**"
   ]
  },
  {
   "cell_type": "markdown",
   "metadata": {
    "id": "9vFMSa0eekDx"
   },
   "source": [
    "#### One-hot-encoding the `type` feature "
   ]
  },
  {
   "cell_type": "code",
   "execution_count": 7,
   "metadata": {
    "id": "oibgkE0UHub_"
   },
   "outputs": [
    {
     "data": {
      "text/plain": [
       "array(['Class', 'Interface', 'Annotation', 'Enum'], dtype=object)"
      ]
     },
     "execution_count": 7,
     "metadata": {},
     "output_type": "execute_result"
    }
   ],
   "source": [
    "df['type'].unique()"
   ]
  },
  {
   "cell_type": "code",
   "execution_count": 8,
   "metadata": {
    "id": "CqiCx2u-Ifs6"
   },
   "outputs": [
    {
     "data": {
      "text/html": [
       "<div>\n",
       "<style scoped>\n",
       "    .dataframe tbody tr th:only-of-type {\n",
       "        vertical-align: middle;\n",
       "    }\n",
       "\n",
       "    .dataframe tbody tr th {\n",
       "        vertical-align: top;\n",
       "    }\n",
       "\n",
       "    .dataframe thead th {\n",
       "        text-align: right;\n",
       "    }\n",
       "</style>\n",
       "<table border=\"1\" class=\"dataframe\">\n",
       "  <thead>\n",
       "    <tr style=\"text-align: right;\">\n",
       "      <th></th>\n",
       "      <th>line</th>\n",
       "      <th>column</th>\n",
       "      <th>endline</th>\n",
       "      <th>endcolumn</th>\n",
       "      <th>cc</th>\n",
       "      <th>ccl</th>\n",
       "      <th>cco</th>\n",
       "      <th>ci</th>\n",
       "      <th>clc</th>\n",
       "      <th>cllc</th>\n",
       "      <th>...</th>\n",
       "      <th>tnm</th>\n",
       "      <th>tnos</th>\n",
       "      <th>tnpa</th>\n",
       "      <th>tnpm</th>\n",
       "      <th>tns</th>\n",
       "      <th>bug</th>\n",
       "      <th>Annotation</th>\n",
       "      <th>Class</th>\n",
       "      <th>Enum</th>\n",
       "      <th>Interface</th>\n",
       "    </tr>\n",
       "  </thead>\n",
       "  <tbody>\n",
       "    <tr>\n",
       "      <th>0</th>\n",
       "      <td>25</td>\n",
       "      <td>1</td>\n",
       "      <td>267</td>\n",
       "      <td>2</td>\n",
       "      <td>0.0</td>\n",
       "      <td>0</td>\n",
       "      <td>0</td>\n",
       "      <td>0</td>\n",
       "      <td>0.0</td>\n",
       "      <td>0.0</td>\n",
       "      <td>...</td>\n",
       "      <td>13</td>\n",
       "      <td>49</td>\n",
       "      <td>0</td>\n",
       "      <td>13</td>\n",
       "      <td>0</td>\n",
       "      <td>0</td>\n",
       "      <td>0</td>\n",
       "      <td>1</td>\n",
       "      <td>0</td>\n",
       "      <td>0</td>\n",
       "    </tr>\n",
       "    <tr>\n",
       "      <th>1</th>\n",
       "      <td>47</td>\n",
       "      <td>1</td>\n",
       "      <td>117</td>\n",
       "      <td>2</td>\n",
       "      <td>0.0</td>\n",
       "      <td>0</td>\n",
       "      <td>0</td>\n",
       "      <td>0</td>\n",
       "      <td>0.0</td>\n",
       "      <td>0.0</td>\n",
       "      <td>...</td>\n",
       "      <td>5</td>\n",
       "      <td>8</td>\n",
       "      <td>0</td>\n",
       "      <td>5</td>\n",
       "      <td>0</td>\n",
       "      <td>0</td>\n",
       "      <td>0</td>\n",
       "      <td>1</td>\n",
       "      <td>0</td>\n",
       "      <td>0</td>\n",
       "    </tr>\n",
       "    <tr>\n",
       "      <th>2</th>\n",
       "      <td>40</td>\n",
       "      <td>1</td>\n",
       "      <td>98</td>\n",
       "      <td>2</td>\n",
       "      <td>0.0</td>\n",
       "      <td>0</td>\n",
       "      <td>0</td>\n",
       "      <td>0</td>\n",
       "      <td>0.0</td>\n",
       "      <td>0.0</td>\n",
       "      <td>...</td>\n",
       "      <td>4</td>\n",
       "      <td>33</td>\n",
       "      <td>0</td>\n",
       "      <td>3</td>\n",
       "      <td>2</td>\n",
       "      <td>0</td>\n",
       "      <td>0</td>\n",
       "      <td>1</td>\n",
       "      <td>0</td>\n",
       "      <td>0</td>\n",
       "    </tr>\n",
       "    <tr>\n",
       "      <th>3</th>\n",
       "      <td>44</td>\n",
       "      <td>1</td>\n",
       "      <td>366</td>\n",
       "      <td>2</td>\n",
       "      <td>0.0</td>\n",
       "      <td>0</td>\n",
       "      <td>0</td>\n",
       "      <td>0</td>\n",
       "      <td>0.0</td>\n",
       "      <td>0.0</td>\n",
       "      <td>...</td>\n",
       "      <td>15</td>\n",
       "      <td>21</td>\n",
       "      <td>5</td>\n",
       "      <td>15</td>\n",
       "      <td>0</td>\n",
       "      <td>0</td>\n",
       "      <td>0</td>\n",
       "      <td>1</td>\n",
       "      <td>0</td>\n",
       "      <td>0</td>\n",
       "    </tr>\n",
       "    <tr>\n",
       "      <th>4</th>\n",
       "      <td>26</td>\n",
       "      <td>1</td>\n",
       "      <td>52</td>\n",
       "      <td>2</td>\n",
       "      <td>0.0</td>\n",
       "      <td>0</td>\n",
       "      <td>0</td>\n",
       "      <td>0</td>\n",
       "      <td>0.0</td>\n",
       "      <td>0.0</td>\n",
       "      <td>...</td>\n",
       "      <td>2</td>\n",
       "      <td>0</td>\n",
       "      <td>0</td>\n",
       "      <td>2</td>\n",
       "      <td>0</td>\n",
       "      <td>0</td>\n",
       "      <td>0</td>\n",
       "      <td>1</td>\n",
       "      <td>0</td>\n",
       "      <td>0</td>\n",
       "    </tr>\n",
       "  </tbody>\n",
       "</table>\n",
       "<p>5 rows × 69 columns</p>\n",
       "</div>"
      ],
      "text/plain": [
       "   line  column  endline  endcolumn   cc  ccl  cco  ci  clc  cllc  ...  tnm  \\\n",
       "0    25       1      267          2  0.0    0    0   0  0.0   0.0  ...   13   \n",
       "1    47       1      117          2  0.0    0    0   0  0.0   0.0  ...    5   \n",
       "2    40       1       98          2  0.0    0    0   0  0.0   0.0  ...    4   \n",
       "3    44       1      366          2  0.0    0    0   0  0.0   0.0  ...   15   \n",
       "4    26       1       52          2  0.0    0    0   0  0.0   0.0  ...    2   \n",
       "\n",
       "   tnos  tnpa  tnpm  tns  bug  Annotation  Class  Enum  Interface  \n",
       "0    49     0    13    0    0           0      1     0          0  \n",
       "1     8     0     5    0    0           0      1     0          0  \n",
       "2    33     0     3    2    0           0      1     0          0  \n",
       "3    21     5    15    0    0           0      1     0          0  \n",
       "4     0     0     2    0    0           0      1     0          0  \n",
       "\n",
       "[5 rows x 69 columns]"
      ]
     },
     "execution_count": 8,
     "metadata": {},
     "output_type": "execute_result"
    }
   ],
   "source": [
    "# one-hot-encoding the type feature\n",
    "type_dummies = pd.get_dummies(df['type'])\n",
    "df = pd.concat([df, type_dummies], axis=1)\n",
    "df.drop('type', axis=1, inplace=True)\n",
    "df.head()"
   ]
  },
  {
   "cell_type": "code",
   "execution_count": 9,
   "metadata": {
    "id": "xtpUtpYmLCjP"
   },
   "outputs": [],
   "source": [
    "# Splitting the dataframe into features and target\n",
    "columns = list(df.columns)\n",
    "columns.remove('bug')\n",
    "x,y = df[columns] , df['bug']"
   ]
  },
  {
   "cell_type": "code",
   "execution_count": 10,
   "metadata": {
    "id": "blZXe3SWM4lV"
   },
   "outputs": [
    {
     "data": {
      "text/plain": [
       "(((38094, 68), (38094,)), ((9524, 68), (9524,)))"
      ]
     },
     "execution_count": 10,
     "metadata": {},
     "output_type": "execute_result"
    }
   ],
   "source": [
    "x_train, x_valid, y_train, y_valid = train_test_split(x, y, test_size=0.2, random_state=42)\n",
    "(x_train.shape, y_train.shape), (x_valid.shape, y_valid.shape)"
   ]
  },
  {
   "cell_type": "code",
   "execution_count": 11,
   "metadata": {
    "id": "ziNvQJmHO3zZ"
   },
   "outputs": [],
   "source": [
    "# calculates the rmse between the predictions and actual values\n",
    "def rmse_score(y_pred, y):\n",
    "    return np.sqrt(mean_squared_error(y_pred, y))\n",
    "\n",
    "# gets the predictions using x and the estimator and then calculates rmse between the predictions and y\n",
    "def rmse_scorer(estimator, x, y):\n",
    "    y_pred = estimator.predict(x)\n",
    "    return rmse_score(y_pred,y)"
   ]
  },
  {
   "cell_type": "code",
   "execution_count": 21,
   "metadata": {
    "id": "IXKdks5oOPr9"
   },
   "outputs": [],
   "source": [
    "# fit_model\n",
    "# takes a model and datasets as input and outputs the scores\n",
    "def fit_model(model, x_train, y_train, x_valid, y_valid):\n",
    "  # fitting the model\n",
    "  model.fit(x_train, y_train)\n",
    "  \n",
    "  # making prediction on the valid data\n",
    "  preds = model.predict(x_valid)\n",
    "  # calculating the scores\n",
    "  rmse_train = rmse_score(y_train, model.predict(x_train))\n",
    "  mse = mean_squared_error(y_valid, preds)\n",
    "  rmse = rmse_score(y_valid, preds)\n",
    "  r2 = r2_score(y_valid, preds) \n",
    "\n",
    "  print(f\"Train RMSE: {rmse_train:.3f} | RMSE: {rmse:.3f} | MSE: {mse:.3f} | R2  : {r2:.3f}\")\n",
    "  return model"
   ]
  },
  {
   "cell_type": "code",
   "execution_count": 22,
   "metadata": {
    "id": "YC_KFqoDNflX"
   },
   "outputs": [
    {
     "name": "stdout",
     "output_type": "stream",
     "text": [
      "Train RMSE: 0.454 | RMSE: 1.059 | MSE: 1.121 | R2  : 0.181\n"
     ]
    }
   ],
   "source": [
    "# pipeline to scale and then train a random forest\n",
    "pipeline = Pipeline([\n",
    "  ('scaler', StandardScaler()),\n",
    "  ('rf', RandomForestRegressor(random_state=42, n_jobs=-1))\n",
    "])\n",
    "\n",
    "pipeline = fit_model(pipeline, x_train, y_train, x_valid, y_valid)"
   ]
  },
  {
   "cell_type": "markdown",
   "metadata": {
    "id": "Sc0XtbH4gp9n"
   },
   "source": [
    "### Outlier Detection"
   ]
  },
  {
   "cell_type": "code",
   "execution_count": 23,
   "metadata": {
    "id": "7Mtw0RvjXfGu"
   },
   "outputs": [],
   "source": [
    "# taking a copy of the dataframe\n",
    "no_outliers_df = df.copy()\n",
    "x,y = no_outliers_df[columns] , no_outliers_df['bug']"
   ]
  },
  {
   "cell_type": "code",
   "execution_count": 24,
   "metadata": {
    "id": "RnUDlImsKhwc"
   },
   "outputs": [],
   "source": [
    "# detecting outliers using IsolationForest\n",
    "outlierDetector =  IsolationForest(n_estimators=100,random_state = 42)\n",
    "result = outlierDetector.fit_predict(x)\n",
    "outliers = no_outliers_df[result==-1]"
   ]
  },
  {
   "cell_type": "code",
   "execution_count": 25,
   "metadata": {
    "id": "O3JoqukMVMdx"
   },
   "outputs": [
    {
     "name": "stdout",
     "output_type": "stream",
     "text": [
      "Number of removed outliers 2818\n"
     ]
    }
   ],
   "source": [
    "# drop outliers\n",
    "no_outliers_df = no_outliers_df.drop(outliers.index)\n",
    "print(f'Number of removed outliers {outliers.index.shape[0]}')"
   ]
  },
  {
   "cell_type": "code",
   "execution_count": 26,
   "metadata": {
    "id": "fILRmZwWWPS7"
   },
   "outputs": [
    {
     "data": {
      "text/plain": [
       "(((35840, 68), (35840,)), ((8960, 68), (8960,)))"
      ]
     },
     "execution_count": 26,
     "metadata": {},
     "output_type": "execute_result"
    }
   ],
   "source": [
    "# splitting the new data into train and validation\n",
    "x,y = no_outliers_df[columns] , no_outliers_df['bug']\n",
    "x_train, x_valid, y_train, y_valid = train_test_split(x, y, test_size=0.2, random_state=42)\n",
    "(x_train.shape, y_train.shape), (x_valid.shape, y_valid.shape)"
   ]
  },
  {
   "cell_type": "code",
   "execution_count": 27,
   "metadata": {
    "id": "yzmI0hqeWogv"
   },
   "outputs": [
    {
     "name": "stdout",
     "output_type": "stream",
     "text": [
      "Train RMSE: 0.324 | RMSE: 0.837 | MSE: 0.700 | R2  : 0.133\n"
     ]
    }
   ],
   "source": [
    "# refitting the pipeline after removing the outliers\n",
    "pipeline = fit_model(pipeline, x_train, y_train, x_valid, y_valid)"
   ]
  },
  {
   "cell_type": "code",
   "execution_count": 28,
   "metadata": {
    "id": "zu9E5ZmmZhgo"
   },
   "outputs": [
    {
     "data": {
      "image/png": "[encoded data removed]",
      "text/plain": [
       "<Figure size 1800x720 with 1 Axes>"
      ]
     },
     "metadata": {
      "needs_background": "light"
     },
     "output_type": "display_data"
    }
   ],
   "source": [
    "# correlation \n",
    "corr = pd.DataFrame(no_outliers_df.corr()['bug'].sort_values(ascending=False)[1:])\n",
    "\n",
    "labels = corr.index\n",
    "corr_values = corr['bug'].tolist()\n",
    "\n",
    "plt.figure(figsize=(25, 10))\n",
    "plt.bar(labels, corr_values)\n",
    "plt.xlabel('Features')\n",
    "plt.ylabel('Correlation with class')\n",
    "plt.title('The Correlation between the Features and Target Column Class')\n",
    "plt.show()"
   ]
  },
  {
   "cell_type": "code",
   "execution_count": 29,
   "metadata": {
    "id": "ZDoGzS9DaPK8"
   },
   "outputs": [],
   "source": [
    "# helper functions for RandomForests\n",
    "# puts the feature importance of RandomForest in a DataFrame\n",
    "def rf_feat_importance(m, df):\n",
    "    return pd.DataFrame({'cols':df.columns[:-1], 'imp':m.feature_importances_}\n",
    "                       ).sort_values('imp', ascending=False)\n",
    "\n",
    "# Plots the feature importance using the DataFrame\n",
    "def plot_fi(fi, figsize=(12, 7)):\n",
    "    return fi.plot('cols', 'imp', 'barh', figsize=figsize, legend=False)"
   ]
  },
  {
   "cell_type": "code",
   "execution_count": 30,
   "metadata": {
    "id": "BsUBgG1NafZk"
   },
   "outputs": [
    {
     "data": {
      "text/html": [
       "<div>\n",
       "<style scoped>\n",
       "    .dataframe tbody tr th:only-of-type {\n",
       "        vertical-align: middle;\n",
       "    }\n",
       "\n",
       "    .dataframe tbody tr th {\n",
       "        vertical-align: top;\n",
       "    }\n",
       "\n",
       "    .dataframe thead th {\n",
       "        text-align: right;\n",
       "    }\n",
       "</style>\n",
       "<table border=\"1\" class=\"dataframe\">\n",
       "  <thead>\n",
       "    <tr style=\"text-align: right;\">\n",
       "      <th></th>\n",
       "      <th>cols</th>\n",
       "      <th>imp</th>\n",
       "    </tr>\n",
       "  </thead>\n",
       "  <tbody>\n",
       "    <tr>\n",
       "      <th>28</th>\n",
       "      <td>tcloc</td>\n",
       "      <td>0.068038</td>\n",
       "    </tr>\n",
       "    <tr>\n",
       "      <th>0</th>\n",
       "      <td>line</td>\n",
       "      <td>0.048186</td>\n",
       "    </tr>\n",
       "    <tr>\n",
       "      <th>16</th>\n",
       "      <td>cbo</td>\n",
       "      <td>0.036930</td>\n",
       "    </tr>\n",
       "    <tr>\n",
       "      <th>2</th>\n",
       "      <td>endline</td>\n",
       "      <td>0.035687</td>\n",
       "    </tr>\n",
       "    <tr>\n",
       "      <th>35</th>\n",
       "      <td>loc</td>\n",
       "      <td>0.031252</td>\n",
       "    </tr>\n",
       "    <tr>\n",
       "      <th>...</th>\n",
       "      <td>...</td>\n",
       "      <td>...</td>\n",
       "    </tr>\n",
       "    <tr>\n",
       "      <th>3</th>\n",
       "      <td>endcolumn</td>\n",
       "      <td>0.001665</td>\n",
       "    </tr>\n",
       "    <tr>\n",
       "      <th>67</th>\n",
       "      <td>Enum</td>\n",
       "      <td>0.000291</td>\n",
       "    </tr>\n",
       "    <tr>\n",
       "      <th>65</th>\n",
       "      <td>Annotation</td>\n",
       "      <td>0.000235</td>\n",
       "    </tr>\n",
       "    <tr>\n",
       "      <th>64</th>\n",
       "      <td>bug</td>\n",
       "      <td>0.000030</td>\n",
       "    </tr>\n",
       "    <tr>\n",
       "      <th>66</th>\n",
       "      <td>Class</td>\n",
       "      <td>0.000005</td>\n",
       "    </tr>\n",
       "  </tbody>\n",
       "</table>\n",
       "<p>68 rows × 2 columns</p>\n",
       "</div>"
      ],
      "text/plain": [
       "          cols       imp\n",
       "28       tcloc  0.068038\n",
       "0         line  0.048186\n",
       "16         cbo  0.036930\n",
       "2      endline  0.035687\n",
       "35         loc  0.031252\n",
       "..         ...       ...\n",
       "3    endcolumn  0.001665\n",
       "67        Enum  0.000291\n",
       "65  Annotation  0.000235\n",
       "64         bug  0.000030\n",
       "66       Class  0.000005\n",
       "\n",
       "[68 rows x 2 columns]"
      ]
     },
     "execution_count": 30,
     "metadata": {},
     "output_type": "execute_result"
    }
   ],
   "source": [
    "# Find the features importance \n",
    "fi = rf_feat_importance(pipeline['rf'], no_outliers_df)\n",
    "fi"
   ]
  },
  {
   "cell_type": "code",
   "execution_count": 31,
   "metadata": {
    "id": "7-RCg7CobXVs"
   },
   "outputs": [
    {
     "data": {
      "text/plain": [
       "<AxesSubplot:ylabel='cols'>"
      ]
     },
     "execution_count": 31,
     "metadata": {},
     "output_type": "execute_result"
    },
    {
     "data": {
      "image/png": "[encoded data removed]",
      "text/plain": [
       "<Figure size 1080x720 with 1 Axes>"
      ]
     },
     "metadata": {
      "needs_background": "light"
     },
     "output_type": "display_data"
    }
   ],
   "source": [
    "# Plot the features importance \n",
    "plot_fi(fi, figsize=(15, 10))"
   ]
  },
  {
   "cell_type": "markdown",
   "metadata": {
    "id": "Hxj-2RvucQZP"
   },
   "source": [
    "### PCA"
   ]
  },
  {
   "cell_type": "code",
   "execution_count": 32,
   "metadata": {
    "id": "qjED57Zbbf2F"
   },
   "outputs": [
    {
     "name": "stdout",
     "output_type": "stream",
     "text": [
      "Number of features before PCA: 69\n"
     ]
    }
   ],
   "source": [
    "# Printing the \n",
    "print(f'Number of features before PCA: {no_outliers_df.shape[1]}')"
   ]
  },
  {
   "cell_type": "code",
   "execution_count": 34,
   "metadata": {
    "id": "StGEZWuRcptN"
   },
   "outputs": [
    {
     "name": "stdout",
     "output_type": "stream",
     "text": [
      "Train RMSE: 0.330 | RMSE: 0.850 | MSE: 0.723 | R2  : 0.104\n"
     ]
    }
   ],
   "source": [
    "pipeline = Pipeline([\n",
    "  ('scaler', StandardScaler()),\n",
    "  ('pca', PCA(n_components=.95, whiten=True, random_state=42)),\n",
    "  ('rf', RandomForestRegressor(random_state=42, n_jobs=-1))\n",
    "])\n",
    "\n",
    "pipeline = fit_model(pipeline, x_train, y_train, x_valid, y_valid)"
   ]
  },
  {
   "cell_type": "code",
   "execution_count": 35,
   "metadata": {
    "id": "5tV9mn9mffWB"
   },
   "outputs": [
    {
     "data": {
      "text/plain": [
       "27"
      ]
     },
     "execution_count": 35,
     "metadata": {},
     "output_type": "execute_result"
    }
   ],
   "source": [
    "pipeline['pca'].n_components_"
   ]
  },
  {
   "cell_type": "code",
   "execution_count": 36,
   "metadata": {
    "id": "2KmNFDsGd6kv"
   },
   "outputs": [
    {
     "name": "stdout",
     "output_type": "stream",
     "text": [
      "Train RMSE: 0.330 | RMSE: 0.850 | MSE: 0.722 | R2  : 0.106\n"
     ]
    }
   ],
   "source": [
    "pipeline = Pipeline([\n",
    "  ('scaler', StandardScaler()),\n",
    "  ('pca', PCA(n_components=.97, whiten=True)),\n",
    "  ('rf', RandomForestRegressor(random_state=42))\n",
    "])\n",
    "\n",
    "pipeline = fit_model(pipeline, x_train, y_train, x_valid, y_valid)"
   ]
  },
  {
   "cell_type": "code",
   "execution_count": 37,
   "metadata": {
    "id": "9PiDAWrLgDAG"
   },
   "outputs": [
    {
     "data": {
      "text/plain": [
       "31"
      ]
     },
     "execution_count": 37,
     "metadata": {},
     "output_type": "execute_result"
    }
   ],
   "source": [
    "pipeline['pca'].n_components_"
   ]
  },
  {
   "cell_type": "markdown",
   "metadata": {
    "id": "003VPVG4iO26"
   },
   "source": [
    "### Training individual models"
   ]
  },
  {
   "cell_type": "code",
   "execution_count": 55,
   "metadata": {
    "colab": {
     "base_uri": "https://localhost:8080/"
    },
    "id": "-FjerbUDiNvJ",
    "outputId": "91ff98de-ee47-4b59-d707-c78c546f24ec"
   },
   "outputs": [
    {
     "name": "stdout",
     "output_type": "stream",
     "text": [
      "Fitting 3 folds for each of 50 candidates, totalling 150 fits\n"
     ]
    },
    {
     "name": "stderr",
     "output_type": "stream",
     "text": [
      "[Parallel(n_jobs=-1)]: Using backend LokyBackend with 8 concurrent workers.\n",
      "[Parallel(n_jobs=-1)]: Done  25 tasks      | elapsed:   30.9s\n",
      "[Parallel(n_jobs=-1)]: Done 150 out of 150 | elapsed:  4.3min finished\n"
     ]
    },
    {
     "name": "stdout",
     "output_type": "stream",
     "text": [
      "Train RMSE: 0.699 | RMSE: 0.835 | MSE: 0.698 | R2  : 0.135\n"
     ]
    }
   ],
   "source": [
    "# RF\n",
    "n_estimators = [int(x) for x in np.linspace(start=10, stop=100, num=10)]\n",
    "\n",
    "max_features = ['auto', 'sqrt']\n",
    "\n",
    "max_depth = [int(x) for x in np.linspace(1, 10, num = 10)]\n",
    "max_depth.append(None)\n",
    "\n",
    "min_samples_split = [2, 5, 10]\n",
    "\n",
    "min_samples_leaf = [1, 2, 4]\n",
    "\n",
    "bootstrap = [True, False]\n",
    "\n",
    "param_grid = {'n_estimators': n_estimators,\n",
    "               'max_features': max_features,\n",
    "               'max_depth': max_depth,\n",
    "               'min_samples_split': min_samples_split,\n",
    "               'min_samples_leaf': min_samples_leaf,\n",
    "               'bootstrap': bootstrap}\n",
    "\n",
    "rf_pipeline = Pipeline([\n",
    "  ('scaler', StandardScaler()),\n",
    "  ('pca', PCA(n_components=.95, whiten=True, random_state=42)),\n",
    "  ('random_rf', RandomizedSearchCV(estimator = RandomForestRegressor(random_state=42, n_jobs=-1), param_distributions = param_grid, \n",
    "                n_iter = 50, cv = 3, verbose=2, random_state=42, n_jobs = -1))\n",
    "])\n",
    "\n",
    "rf_pipeline = fit_model(rf_pipeline, x_train, y_train, x_valid, y_valid)"
   ]
  },
  {
   "cell_type": "code",
   "execution_count": 57,
   "metadata": {},
   "outputs": [
    {
     "data": {
      "text/plain": [
       "{'n_estimators': 50,\n",
       " 'min_samples_split': 5,\n",
       " 'min_samples_leaf': 4,\n",
       " 'max_features': 'sqrt',\n",
       " 'max_depth': 9,\n",
       " 'bootstrap': False}"
      ]
     },
     "execution_count": 57,
     "metadata": {},
     "output_type": "execute_result"
    }
   ],
   "source": [
    "rf_pipeline['random_rf'].best_params_"
   ]
  },
  {
   "cell_type": "code",
   "execution_count": 52,
   "metadata": {
    "id": "UXTPXYztv0s6"
   },
   "outputs": [
    {
     "name": "stdout",
     "output_type": "stream",
     "text": [
      "Fitting 3 folds for each of 24 candidates, totalling 72 fits\n"
     ]
    },
    {
     "name": "stderr",
     "output_type": "stream",
     "text": [
      "[Parallel(n_jobs=-1)]: Using backend LokyBackend with 8 concurrent workers.\n",
      "[Parallel(n_jobs=-1)]: Done  25 tasks      | elapsed:  1.7min\n",
      "[Parallel(n_jobs=-1)]: Done  72 out of  72 | elapsed:  3.9min finished\n"
     ]
    },
    {
     "name": "stdout",
     "output_type": "stream",
     "text": [
      "Train RMSE: 0.696 | RMSE: 0.830 | MSE: 0.689 | R2  : 0.146\n"
     ]
    },
    {
     "data": {
      "text/plain": [
       "Pipeline(steps=[('scaler', StandardScaler()),\n",
       "                ('pca', PCA(n_components=0.95, whiten=True)),\n",
       "                ('random_knn',\n",
       "                 RandomizedSearchCV(cv=3,\n",
       "                                    estimator=KNeighborsRegressor(n_jobs=-1),\n",
       "                                    n_iter=24, n_jobs=-1,\n",
       "                                    param_distributions={'algorithm': ['auto',\n",
       "                                                                       'kd_tree'],\n",
       "                                                         'leaf_size': [1, 3, 5],\n",
       "                                                         'n_neighbors': [4, 5,\n",
       "                                                                         6,\n",
       "                                                                         7]},\n",
       "                                    random_state=42, verbose=2))])"
      ]
     },
     "execution_count": 52,
     "metadata": {},
     "output_type": "execute_result"
    }
   ],
   "source": [
    "# KNN\n",
    "param_grid = {'n_neighbors':[4,5,6,7],\n",
    "              'leaf_size':[1,3,5],\n",
    "              'algorithm':['auto', 'kd_tree']}\n",
    "\n",
    "knn_pipeline = Pipeline([\n",
    "  ('scaler', StandardScaler()),\n",
    "  ('pca', PCA(n_components=.95, whiten=True)),\n",
    "  ('random_knn', RandomizedSearchCV(estimator = KNeighborsRegressor(n_jobs=-1), param_distributions = param_grid, \n",
    "                               n_iter = 24, cv = 3, verbose=2, random_state=42, n_jobs = -1))\n",
    "])\n",
    "\n",
    "\n",
    "knn_pipeline = fit_model(knn_pipeline, x_train, y_train, x_valid, y_valid)"
   ]
  },
  {
   "cell_type": "code",
   "execution_count": 59,
   "metadata": {},
   "outputs": [
    {
     "data": {
      "text/plain": [
       "{'n_neighbors': 7, 'leaf_size': 3, 'algorithm': 'auto'}"
      ]
     },
     "execution_count": 59,
     "metadata": {},
     "output_type": "execute_result"
    }
   ],
   "source": [
    "knn_pipeline['random_knn'].best_params_"
   ]
  },
  {
   "cell_type": "markdown",
   "metadata": {},
   "source": [
    "### Ensembles "
   ]
  },
  {
   "cell_type": "code",
   "execution_count": 81,
   "metadata": {},
   "outputs": [
    {
     "name": "stdout",
     "output_type": "stream",
     "text": [
      "----- Models Scores -----\n",
      "RF :  0.835269866314049\n",
      "KNN:  0.8301719675024098\n"
     ]
    }
   ],
   "source": [
    "# the best parameters\n",
    "rf = RandomForestRegressor(**rf_pipeline['random_rf'].best_params_, random_state=42, n_jobs=-1)\n",
    "knn = KNeighborsRegressor(**knn_pipeline['random_knn'].best_params_, n_jobs=-1)\n",
    "\n",
    "print('-'*5, 'Models Scores', '-'*5)\n",
    "print('RF : ', rmse_scorer(rf_pipeline, x_valid, y_valid))\n",
    "print('KNN: ', rmse_scorer(knn_pipeline, x_valid, y_valid))"
   ]
  },
  {
   "cell_type": "code",
   "execution_count": 84,
   "metadata": {},
   "outputs": [
    {
     "name": "stdout",
     "output_type": "stream",
     "text": [
      "Train RMSE: 0.681 | RMSE: 0.818 | MSE: 0.669 | R2  : 0.171\n"
     ]
    }
   ],
   "source": [
    "# ensemble\n",
    "voting_pipeline = Pipeline([\n",
    "    ('scaler', StandardScaler()),\n",
    "    ('pca', PCA(n_components=0.95, whiten=True)),\n",
    "    ('voter', VotingRegressor(estimators=[('RF', rf), ('KNN', knn)], n_jobs=-1, verbose=2))\n",
    "])\n",
    "\n",
    "\n",
    "voting__pipeline = fit_model(voting_pipeline, x_train, y_train, x_valid, y_valid)"
   ]
  },
  {
   "cell_type": "markdown",
   "metadata": {},
   "source": [
    "### Bagging and Pasting using the Best Model"
   ]
  },
  {
   "cell_type": "code",
   "execution_count": 100,
   "metadata": {},
   "outputs": [],
   "source": [
    "# instead of all the next cells but will take lots of time :(\n",
    "# bagging_bootsrap_params = {\n",
    "#     'oob_score': [True, False],\n",
    "#     'max_samples': [0.5, 0.7, 0.8],\n",
    "#     'n_estimators': [10, 20, 30]\n",
    "# }\n",
    "\n",
    "# bag_search = Pipeline([\n",
    "#     ('scaler', StandardScaler()),\n",
    "#     ('pca', PCA(n_components=0.95, whiten=True)),\n",
    "#     ('search', GridSearchCV(BaggingRegressor(knn, random_state=42, n_jobs=-1, verbose=2, bootstrap=True),\n",
    "#                             param_grid=bagging_bootsrap_params, n_jobs=-1, cv=3))\n",
    "# ])\n",
    "\n",
    "# bag_search.fit(x_train, y_train)"
   ]
  },
  {
   "cell_type": "code",
   "execution_count": 89,
   "metadata": {},
   "outputs": [
    {
     "name": "stderr",
     "output_type": "stream",
     "text": [
      "[Parallel(n_jobs=8)]: Using backend LokyBackend with 8 concurrent workers.\n",
      "[Parallel(n_jobs=8)]: Done   3 out of   8 | elapsed:    0.5s remaining:    0.8s\n",
      "[Parallel(n_jobs=8)]: Done   8 out of   8 | elapsed:    0.9s remaining:    0.0s\n",
      "[Parallel(n_jobs=8)]: Done   8 out of   8 | elapsed:    0.9s finished\n",
      "/opt/conda/envs/fastai/lib/python3.8/site-packages/sklearn/ensemble/_bagging.py:1066: UserWarning: Some inputs do not have OOB scores. This probably means too few estimators were used to compute any reliable oob estimates.\n",
      "  warn(\"Some inputs do not have OOB scores. \"\n",
      "[Parallel(n_jobs=8)]: Using backend LokyBackend with 8 concurrent workers.\n",
      "[Parallel(n_jobs=8)]: Done   3 out of   8 | elapsed:   19.3s remaining:   32.1s\n",
      "[Parallel(n_jobs=8)]: Done   8 out of   8 | elapsed:   27.5s remaining:    0.0s\n",
      "[Parallel(n_jobs=8)]: Done   8 out of   8 | elapsed:   27.5s finished\n",
      "[Parallel(n_jobs=8)]: Using backend LokyBackend with 8 concurrent workers.\n",
      "[Parallel(n_jobs=8)]: Done   3 out of   8 | elapsed:  1.2min remaining:  2.0min\n"
     ]
    },
    {
     "name": "stdout",
     "output_type": "stream",
     "text": [
      "Train RMSE: 0.718 | RMSE: 0.823 | MSE: 0.678 | R2  : 0.160\n"
     ]
    },
    {
     "name": "stderr",
     "output_type": "stream",
     "text": [
      "[Parallel(n_jobs=8)]: Done   8 out of   8 | elapsed:  1.7min remaining:    0.0s\n",
      "[Parallel(n_jobs=8)]: Done   8 out of   8 | elapsed:  1.7min finished\n"
     ]
    }
   ],
   "source": [
    "bag_pipeline = Pipeline([\n",
    "    ('scaler', StandardScaler()),\n",
    "    ('pca', PCA(n_components=0.95, whiten=True)),\n",
    "    ('bag', BaggingRegressor(knn, max_samples=.75, bootstrap=True, random_state=42, n_jobs=-1, oob_score=True, verbose=2))\n",
    "])\n",
    "\n",
    "bag_pipeline = fit_model(bag_pipeline, x_train, y_train, x_valid, y_valid)"
   ]
  },
  {
   "cell_type": "code",
   "execution_count": 90,
   "metadata": {},
   "outputs": [
    {
     "name": "stderr",
     "output_type": "stream",
     "text": [
      "[Parallel(n_jobs=8)]: Using backend LokyBackend with 8 concurrent workers.\n",
      "[Parallel(n_jobs=8)]: Done   3 out of   8 | elapsed:    0.9s remaining:    1.5s\n",
      "[Parallel(n_jobs=8)]: Done   8 out of   8 | elapsed:    1.8s remaining:    0.0s\n",
      "[Parallel(n_jobs=8)]: Done   8 out of   8 | elapsed:    1.8s finished\n",
      "[Parallel(n_jobs=8)]: Using backend LokyBackend with 8 concurrent workers.\n",
      "[Parallel(n_jobs=8)]: Done   3 out of   8 | elapsed:   40.9s remaining:  1.1min\n",
      "[Parallel(n_jobs=8)]: Done   8 out of   8 | elapsed:   51.4s remaining:    0.0s\n",
      "[Parallel(n_jobs=8)]: Done   8 out of   8 | elapsed:   51.4s finished\n",
      "[Parallel(n_jobs=8)]: Using backend LokyBackend with 8 concurrent workers.\n",
      "[Parallel(n_jobs=8)]: Done   3 out of   8 | elapsed:  2.6min remaining:  4.3min\n"
     ]
    },
    {
     "name": "stdout",
     "output_type": "stream",
     "text": [
      "Train RMSE: 0.716 | RMSE: 0.824 | MSE: 0.679 | R2  : 0.159\n"
     ]
    },
    {
     "name": "stderr",
     "output_type": "stream",
     "text": [
      "[Parallel(n_jobs=8)]: Done   8 out of   8 | elapsed:  3.2min remaining:    0.0s\n",
      "[Parallel(n_jobs=8)]: Done   8 out of   8 | elapsed:  3.2min finished\n"
     ]
    }
   ],
   "source": [
    "bag_pipeline = Pipeline([\n",
    "    ('scaler', StandardScaler()),\n",
    "    ('pca', PCA(n_components=0.95, whiten=True)),\n",
    "    ('bag', BaggingRegressor(knn, max_samples=.75, n_estimators=20, bootstrap=True, random_state=42, n_jobs=-1, oob_score=True, verbose=2))\n",
    "])\n",
    "\n",
    "bag_pipeline = fit_model(bag_pipeline, x_train, y_train, x_valid, y_valid)"
   ]
  },
  {
   "cell_type": "code",
   "execution_count": 94,
   "metadata": {},
   "outputs": [
    {
     "name": "stderr",
     "output_type": "stream",
     "text": [
      "[Parallel(n_jobs=8)]: Using backend LokyBackend with 8 concurrent workers.\n",
      "[Parallel(n_jobs=8)]: Done   3 out of   8 | elapsed:    1.4s remaining:    2.3s\n",
      "[Parallel(n_jobs=8)]: Done   8 out of   8 | elapsed:    2.7s remaining:    0.0s\n",
      "[Parallel(n_jobs=8)]: Done   8 out of   8 | elapsed:    2.7s finished\n",
      "[Parallel(n_jobs=8)]: Using backend LokyBackend with 8 concurrent workers.\n",
      "[Parallel(n_jobs=8)]: Done   3 out of   8 | elapsed:  1.2min remaining:  2.1min\n",
      "[Parallel(n_jobs=8)]: Done   8 out of   8 | elapsed:  1.3min remaining:    0.0s\n",
      "[Parallel(n_jobs=8)]: Done   8 out of   8 | elapsed:  1.3min finished\n",
      "[Parallel(n_jobs=8)]: Using backend LokyBackend with 8 concurrent workers.\n",
      "[Parallel(n_jobs=8)]: Done   3 out of   8 | elapsed:  4.7min remaining:  7.8min\n"
     ]
    },
    {
     "name": "stdout",
     "output_type": "stream",
     "text": [
      "Train RMSE: 0.714 | RMSE: 0.824 | MSE: 0.679 | R2  : 0.158\n"
     ]
    },
    {
     "name": "stderr",
     "output_type": "stream",
     "text": [
      "[Parallel(n_jobs=8)]: Done   8 out of   8 | elapsed:  4.7min remaining:    0.0s\n",
      "[Parallel(n_jobs=8)]: Done   8 out of   8 | elapsed:  4.7min finished\n"
     ]
    }
   ],
   "source": [
    "bag_pipeline = Pipeline([\n",
    "    ('scaler', StandardScaler()),\n",
    "    ('pca', PCA(n_components=0.95, whiten=True)),\n",
    "    ('bag', BaggingRegressor(knn, max_samples=.75, n_estimators=30, bootstrap=True, random_state=42, n_jobs=-1, oob_score=True, verbose=2))\n",
    "])\n",
    "\n",
    "bag_pipeline = fit_model(bag_pipeline, x_train, y_train, x_valid, y_valid)"
   ]
  },
  {
   "cell_type": "code",
   "execution_count": 95,
   "metadata": {},
   "outputs": [
    {
     "name": "stderr",
     "output_type": "stream",
     "text": [
      "[Parallel(n_jobs=8)]: Using backend LokyBackend with 8 concurrent workers.\n",
      "[Parallel(n_jobs=8)]: Done   3 out of   8 | elapsed:    0.8s remaining:    1.4s\n",
      "[Parallel(n_jobs=8)]: Done   8 out of   8 | elapsed:    1.7s remaining:    0.0s\n",
      "[Parallel(n_jobs=8)]: Done   8 out of   8 | elapsed:    1.7s finished\n",
      "[Parallel(n_jobs=8)]: Using backend LokyBackend with 8 concurrent workers.\n",
      "[Parallel(n_jobs=8)]: Done   3 out of   8 | elapsed:   39.6s remaining:  1.1min\n",
      "[Parallel(n_jobs=8)]: Done   8 out of   8 | elapsed:   49.8s remaining:    0.0s\n",
      "[Parallel(n_jobs=8)]: Done   8 out of   8 | elapsed:   49.8s finished\n",
      "[Parallel(n_jobs=8)]: Using backend LokyBackend with 8 concurrent workers.\n",
      "[Parallel(n_jobs=8)]: Done   3 out of   8 | elapsed:  2.5min remaining:  4.2min\n"
     ]
    },
    {
     "name": "stdout",
     "output_type": "stream",
     "text": [
      "Train RMSE: 0.716 | RMSE: 0.824 | MSE: 0.679 | R2  : 0.159\n"
     ]
    },
    {
     "name": "stderr",
     "output_type": "stream",
     "text": [
      "[Parallel(n_jobs=8)]: Done   8 out of   8 | elapsed:  3.2min remaining:    0.0s\n",
      "[Parallel(n_jobs=8)]: Done   8 out of   8 | elapsed:  3.2min finished\n"
     ]
    }
   ],
   "source": [
    "bag_pipeline = Pipeline([\n",
    "    ('scaler', StandardScaler()),\n",
    "    ('pca', PCA(n_components=0.95, whiten=True)),\n",
    "    ('bag', BaggingRegressor(knn, max_samples=.75, n_estimators=20, random_state=42, n_jobs=-1, verbose=2))\n",
    "])\n",
    "\n",
    "bag_pipeline = fit_model(bag_pipeline, x_train, y_train, x_valid, y_valid)"
   ]
  },
  {
   "cell_type": "code",
   "execution_count": 96,
   "metadata": {},
   "outputs": [
    {
     "name": "stderr",
     "output_type": "stream",
     "text": [
      "[Parallel(n_jobs=8)]: Using backend LokyBackend with 8 concurrent workers.\n",
      "[Parallel(n_jobs=8)]: Done   3 out of   8 | elapsed:    1.4s remaining:    2.3s\n",
      "[Parallel(n_jobs=8)]: Done   8 out of   8 | elapsed:    2.7s remaining:    0.0s\n",
      "[Parallel(n_jobs=8)]: Done   8 out of   8 | elapsed:    2.7s finished\n",
      "[Parallel(n_jobs=8)]: Using backend LokyBackend with 8 concurrent workers.\n",
      "[Parallel(n_jobs=8)]: Done   3 out of   8 | elapsed:  1.2min remaining:  2.0min\n",
      "[Parallel(n_jobs=8)]: Done   8 out of   8 | elapsed:  1.2min remaining:    0.0s\n",
      "[Parallel(n_jobs=8)]: Done   8 out of   8 | elapsed:  1.2min finished\n",
      "[Parallel(n_jobs=8)]: Using backend LokyBackend with 8 concurrent workers.\n",
      "[Parallel(n_jobs=8)]: Done   3 out of   8 | elapsed:  4.6min remaining:  7.7min\n"
     ]
    },
    {
     "name": "stdout",
     "output_type": "stream",
     "text": [
      "Train RMSE: 0.714 | RMSE: 0.824 | MSE: 0.679 | R2  : 0.158\n"
     ]
    },
    {
     "name": "stderr",
     "output_type": "stream",
     "text": [
      "[Parallel(n_jobs=8)]: Done   8 out of   8 | elapsed:  4.7min remaining:    0.0s\n",
      "[Parallel(n_jobs=8)]: Done   8 out of   8 | elapsed:  4.7min finished\n"
     ]
    }
   ],
   "source": [
    "bag_pipeline = Pipeline([\n",
    "    ('scaler', StandardScaler()),\n",
    "    ('pca', PCA(n_components=0.95, whiten=True)),\n",
    "    ('bag', BaggingRegressor(knn, max_samples=.75, n_estimators=30, random_state=42, n_jobs=-1, verbose=2))\n",
    "])\n",
    "\n",
    "bag_pipeline = fit_model(bag_pipeline, x_train, y_train, x_valid, y_valid)"
   ]
  }
 ],
 "metadata": {
  "colab": {
   "collapsed_sections": [
    "qBEsVEQ0FKqY"
   ],
   "name": "Unified Bug.ipynb",
   "provenance": []
  },
  "kernelspec": {
   "display_name": "Python 3",
   "language": "python",
   "name": "python3"
  },
  "language_info": {
   "codemirror_mode": {
    "name": "ipython",
    "version": 3
   },
   "file_extension": ".py",
   "mimetype": "text/x-python",
   "name": "python",
   "nbconvert_exporter": "python",
   "pygments_lexer": "ipython3",
   "version": "3.8.6"
  }
 },
 "nbformat": 4,
 "nbformat_minor": 1
}
